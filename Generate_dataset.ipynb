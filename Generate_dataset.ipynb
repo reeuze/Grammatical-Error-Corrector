{
 "cells": [
  {
   "cell_type": "markdown",
   "metadata": {},
   "source": [
    "##### Dipendensi"
   ]
  },
  {
   "cell_type": "code",
   "execution_count": 2,
   "metadata": {},
   "outputs": [],
   "source": [
    "import re\n",
    "\n",
    "import nltk\n",
    "from nltk.stem import WordNetLemmatizer\n",
    "\n",
    "# import numpy as np\n",
    "\n",
    "from datasets import load_dataset"
   ]
  },
  {
   "cell_type": "markdown",
   "metadata": {},
   "source": [
    "#### Load Data"
   ]
  },
  {
   "cell_type": "code",
   "execution_count": 6,
   "metadata": {},
   "outputs": [
    {
     "name": "stdout",
     "output_type": "stream",
     "text": [
      "DatasetDict({\n",
      "    validation: Dataset({\n",
      "        features: ['sentence', 'corrections'],\n",
      "        num_rows: 755\n",
      "    })\n",
      "    test: Dataset({\n",
      "        features: ['sentence', 'corrections'],\n",
      "        num_rows: 748\n",
      "    })\n",
      "})\n"
     ]
    }
   ],
   "source": [
    "data = load_dataset(\"jhu-clsp/jfleg\")\n",
    "print(data)"
   ]
  },
  {
   "cell_type": "code",
   "execution_count": 7,
   "metadata": {},
   "outputs": [],
   "source": [
    "validation = data[\"validation\"]\n",
    "test = data[\"test\"]\n",
    "\n",
    "validation_sentence = validation[\"sentence\"]\n",
    "validation_corrections = validation[\"corrections\"]\n",
    "\n",
    "test_sentence = test[\"sentence\"]\n",
    "test_corrections = test[\"corrections\"]"
   ]
  },
  {
   "cell_type": "code",
   "execution_count": 12,
   "metadata": {},
   "outputs": [
    {
     "name": "stdout",
     "output_type": "stream",
     "text": [
      "Validation sentence : \n",
      "1, So I think we can not live if old people could not find siences and tecnologies and they did not developped . \n",
      "2, For not use car . \n",
      "3, Here was no promise of morning except that we looked up through the trees we saw how low the forest had swung . \n",
      "4, Thus even today sex is considered as the least important topic in many parts of India . \n",
      "5, image you salf you are wark in factory just to do one thing like pot taire on car if they fire you you will destroy , becouse u dont know more than pot taire in car . \n",
      "\n",
      "\n",
      "Validation corrections : \n",
      "1. 1. So I think we would not be alive if our ancestors did not develop sciences and technologies . \n",
      "1. 2. So I think we could not live if older people did not develop science and technologies . \n",
      "1. 3. So I think we can not live if old people could not find science and technologies and they did not develop . \n",
      "1. 4. So I think we can not live if old people can not find the science and technology that has not been developed . \n",
      "2. 1. Not for use with a car . \n",
      "2. 2. Do not use in the car . \n",
      "2. 3. Car not for use . \n",
      "2. 4. Can not use the car . \n",
      "3. 1. Here was no promise of morning , except that we looked up through the trees , and we saw how low the forest had swung . \n",
      "3. 2. Here , there was no promise of morning , except that we looked up through the trees and saw how low the forest had swung . \n",
      "3. 3. Here was no promise of morning except that we looked up through the trees and we saw how low the forest had swung . \n",
      "3. 4. There was no promise of morning except when we looked up through the trees and saw how low the forest had swung . \n",
      "4. 1. Thus , even today , sex is considered as the least important topic in may parts of India . \n",
      "4. 2. Thus , even today , sex is considered the least important topic in many parts of India . \n",
      "4. 3. Thus , even today , sex is considered the least important topic in many parts of India . \n",
      "4. 4. Thus , even today sex is considered as the least important topic in many parts of India . \n",
      "5. 1. Imagine yourself you are working in factory just to do one thing like put air a on car if they fire you you will be destroyed , because you do n't know more than to put air a in car . \n",
      "5. 2. Imagine that you work in a factory and do just one thing , like put tires on cars ; if they fire you , they will destroy you because you do n't know how to do anything but put tires on cars . \n",
      "5. 3. image you salf you are wark in factory just to do one thing like pot taire on car if they fire you you will destroy , becouse u dont know more than pot taire in car . \n",
      "5. 4. Imagine yourself working in a factory. You are to do just one thing , such as put a tire on a car. If you are fired , it will destroy you because you do not know how to do more than put tires on cars . \n"
     ]
    }
   ],
   "source": [
    "print(\"Validation sentence : \")\n",
    "for index, val_sen in enumerate(validation_sentence[:5], start=1): \n",
    "    print(f\"{index}, {val_sen}\")\n",
    "print(\"\\n\")\n",
    "print(\"Validation corrections : \")\n",
    "for i, val_cor in enumerate(validation_corrections[:5], start=1): \n",
    "    for j, cor in enumerate(val_cor, start=1):\n",
    "        print (f\"{i}. {j}. {cor}\")\n"
   ]
  },
  {
   "cell_type": "markdown",
   "metadata": {},
   "source": [
    "#### 1. Pra-pemrosesan Data\n",
    "\n",
    "##### 1.1. Pembersihan Data\n",
    "Data dibersihkan dari karakter yang tidak perlu dibaca, spasi berlebih, dan karakter khusus "
   ]
  },
  {
   "cell_type": "code",
   "execution_count": 3,
   "metadata": {},
   "outputs": [],
   "source": [
    "def clean_sentence(sentence):\n",
    "    cleaned = re.sub(r'[^\\w\\s]', '', sentence)\n",
    "    cleaned = re.sub(r'\\s+', ' ', cleaned).strip()\n",
    "    return cleaned"
   ]
  },
  {
   "cell_type": "code",
   "execution_count": 32,
   "metadata": {},
   "outputs": [],
   "source": [
    "def validation_clean(features):\n",
    "    clean_features = []\n",
    "    for words in features:\n",
    "        clean_features.append(clean_sentence(words))\n",
    "    return clean_features\n",
    "\n",
    "def test_clean(features):\n",
    "    clean_features = []\n",
    "    temp = []\n",
    "    for words_1 in features:\n",
    "        for words_2 in words_1:\n",
    "            temp.append(clean_sentence(words_2))\n",
    "        clean_features.append(temp)\n",
    "        temp = []\n",
    "    return clean_features\n",
    "\n",
    "validation_sentence = validation_clean(validation_sentence)\n",
    "test_sentence = validation_clean(test_sentence)\n",
    "\n",
    "validation_corrections = test_clean(validation_corrections)\n",
    "test_corrections = test_clean(test_corrections)\n"
   ]
  },
  {
   "cell_type": "code",
   "execution_count": 33,
   "metadata": {},
   "outputs": [
    {
     "name": "stdout",
     "output_type": "stream",
     "text": [
      "Validation sentence (clean) : \n",
      "1, So I think we can not live if old people could not find siences and tecnologies and they did not developped\n",
      "2, For not use car\n",
      "3, Here was no promise of morning except that we looked up through the trees we saw how low the forest had swung\n",
      "4, Thus even today sex is considered as the least important topic in many parts of India\n",
      "5, image you salf you are wark in factory just to do one thing like pot taire on car if they fire you you will destroy becouse u dont know more than pot taire in car\n",
      "\n",
      "\n",
      "Validation corrections (clean) : \n",
      "1. 1. So I think we would not be alive if our ancestors did not develop sciences and technologies\n",
      "1. 2. So I think we could not live if older people did not develop science and technologies\n",
      "1. 3. So I think we can not live if old people could not find science and technologies and they did not develop\n",
      "1. 4. So I think we can not live if old people can not find the science and technology that has not been developed\n",
      "2. 1. Not for use with a car\n",
      "2. 2. Do not use in the car\n",
      "2. 3. Car not for use\n",
      "2. 4. Can not use the car\n",
      "3. 1. Here was no promise of morning except that we looked up through the trees and we saw how low the forest had swung\n",
      "3. 2. Here there was no promise of morning except that we looked up through the trees and saw how low the forest had swung\n",
      "3. 3. Here was no promise of morning except that we looked up through the trees and we saw how low the forest had swung\n",
      "3. 4. There was no promise of morning except when we looked up through the trees and saw how low the forest had swung\n",
      "4. 1. Thus even today sex is considered as the least important topic in may parts of India\n",
      "4. 2. Thus even today sex is considered the least important topic in many parts of India\n",
      "4. 3. Thus even today sex is considered the least important topic in many parts of India\n",
      "4. 4. Thus even today sex is considered as the least important topic in many parts of India\n",
      "5. 1. Imagine yourself you are working in factory just to do one thing like put air a on car if they fire you you will be destroyed because you do nt know more than to put air a in car\n",
      "5. 2. Imagine that you work in a factory and do just one thing like put tires on cars if they fire you they will destroy you because you do nt know how to do anything but put tires on cars\n",
      "5. 3. image you salf you are wark in factory just to do one thing like pot taire on car if they fire you you will destroy becouse u dont know more than pot taire in car\n",
      "5. 4. Imagine yourself working in a factory You are to do just one thing such as put a tire on a car If you are fired it will destroy you because you do not know how to do more than put tires on cars\n"
     ]
    }
   ],
   "source": [
    "print(\"Validation sentence (clean) : \")\n",
    "for index, val_sen in enumerate(validation_sentence[:5], start=1): \n",
    "    print(f\"{index}, {val_sen}\")\n",
    "print(\"\\n\")\n",
    "print(\"Validation corrections (clean) : \")\n",
    "for i, val_cor in enumerate(validation_corrections[:5], start=1): \n",
    "    for j, cor in enumerate(val_cor, start=1):\n",
    "        print (f\"{i}. {j}. {cor}\")"
   ]
  },
  {
   "cell_type": "markdown",
   "metadata": {},
   "source": [
    "##### 1.2. Normalisasi Data\n",
    "Data diubah menjadi huruf kecil dan dikonversikan semua kata menjadi bentuk dasar."
   ]
  },
  {
   "cell_type": "code",
   "execution_count": 4,
   "metadata": {},
   "outputs": [
    {
     "name": "stderr",
     "output_type": "stream",
     "text": [
      "[nltk_data] Downloading package wordnet to\n",
      "[nltk_data]     C:\\Users\\aditt\\AppData\\Roaming\\nltk_data...\n",
      "[nltk_data] Downloading package omw-1.4 to\n",
      "[nltk_data]     C:\\Users\\aditt\\AppData\\Roaming\\nltk_data...\n"
     ]
    },
    {
     "data": {
      "text/plain": [
       "True"
      ]
     },
     "execution_count": 4,
     "metadata": {},
     "output_type": "execute_result"
    }
   ],
   "source": [
    "nltk.download('wordnet')\n",
    "nltk.download('omw-1.4')"
   ]
  },
  {
   "cell_type": "code",
   "execution_count": 34,
   "metadata": {},
   "outputs": [],
   "source": [
    "def lemmatize_sentence(sentence):\n",
    "    lemmatizer = WordNetLemmatizer()\n",
    "    sentence = sentence.lower()\n",
    "    kata = sentence.split()\n",
    "    kata_dasar = [lemmatizer.lemmatize(k) for k in kata]\n",
    "    return ' '.join(kata_dasar)"
   ]
  },
  {
   "cell_type": "code",
   "execution_count": 44,
   "metadata": {},
   "outputs": [],
   "source": [
    "def validation_lemmatize(features):\n",
    "    lemmatize_features = []\n",
    "    for words in features:\n",
    "        lemmatize_features.append(lemmatize_sentence(words))\n",
    "    return lemmatize_features\n",
    "\n",
    "def test_lemmatize(features):\n",
    "    lemmatize_features = []\n",
    "    temp = []\n",
    "    for words_1 in features:\n",
    "        for words_2 in words_1:\n",
    "            temp.append(lemmatize_sentence(words_2))\n",
    "        lemmatize_features.append(temp)\n",
    "        temp = []\n",
    "    return lemmatize_features\n",
    "\n",
    "validation_sentence = validation_lemmatize(validation_sentence)\n",
    "test_sentence = validation_lemmatize(test_sentence)\n",
    "\n",
    "validation_corrections = test_lemmatize(validation_corrections)\n",
    "test_corrections = test_lemmatize(test_corrections)"
   ]
  },
  {
   "cell_type": "code",
   "execution_count": 45,
   "metadata": {},
   "outputs": [
    {
     "name": "stdout",
     "output_type": "stream",
     "text": [
      "Validation sentence (lemmatize) : \n",
      "1, so i think we can not live if old people could not find siences and tecnologies and they did not developped\n",
      "2, for not use car\n",
      "3, here wa no promise of morning except that we looked up through the tree we saw how low the forest had swung\n",
      "4, thus even today sex is considered a the least important topic in many part of india\n",
      "5, image you salf you are wark in factory just to do one thing like pot taire on car if they fire you you will destroy becouse u dont know more than pot taire in car\n",
      "\n",
      "\n",
      "Validation corrections (lemmatize) : \n",
      "1. 1. so i think we would not be alive if our ancestor did not develop science and technology\n",
      "1. 2. so i think we could not live if older people did not develop science and technology\n",
      "1. 3. so i think we can not live if old people could not find science and technology and they did not develop\n",
      "1. 4. so i think we can not live if old people can not find the science and technology that ha not been developed\n",
      "2. 1. not for use with a car\n",
      "2. 2. do not use in the car\n",
      "2. 3. car not for use\n",
      "2. 4. can not use the car\n",
      "3. 1. here wa no promise of morning except that we looked up through the tree and we saw how low the forest had swung\n",
      "3. 2. here there wa no promise of morning except that we looked up through the tree and saw how low the forest had swung\n",
      "3. 3. here wa no promise of morning except that we looked up through the tree and we saw how low the forest had swung\n",
      "3. 4. there wa no promise of morning except when we looked up through the tree and saw how low the forest had swung\n",
      "4. 1. thus even today sex is considered a the least important topic in may part of india\n",
      "4. 2. thus even today sex is considered the least important topic in many part of india\n",
      "4. 3. thus even today sex is considered the least important topic in many part of india\n",
      "4. 4. thus even today sex is considered a the least important topic in many part of india\n",
      "5. 1. imagine yourself you are working in factory just to do one thing like put air a on car if they fire you you will be destroyed because you do nt know more than to put air a in car\n",
      "5. 2. imagine that you work in a factory and do just one thing like put tire on car if they fire you they will destroy you because you do nt know how to do anything but put tire on car\n",
      "5. 3. image you salf you are wark in factory just to do one thing like pot taire on car if they fire you you will destroy becouse u dont know more than pot taire in car\n",
      "5. 4. imagine yourself working in a factory you are to do just one thing such a put a tire on a car if you are fired it will destroy you because you do not know how to do more than put tire on car\n"
     ]
    }
   ],
   "source": [
    "print(\"Validation sentence (lemmatize) : \")\n",
    "for index, val_sen in enumerate(validation_sentence[:5], start=1): \n",
    "    print(f\"{index}, {val_sen}\")\n",
    "print(\"\\n\")\n",
    "print(\"Validation corrections (lemmatize) : \")\n",
    "for i, val_cor in enumerate(validation_corrections[:5], start=1): \n",
    "    for j, cor in enumerate(val_cor, start=1):\n",
    "        print (f\"{i}. {j}. {cor}\")"
   ]
  },
  {
   "cell_type": "markdown",
   "metadata": {},
   "source": [
    "##### 1.3. Tokenisasi\n",
    "Dilakukan tokenisasi kepada data dengan memecah kalimat ke dalam per-kata, dan dilakukan pemberian id khusus per-kata\n",
    "khusus"
   ]
  },
  {
   "cell_type": "code",
   "execution_count": 14,
   "metadata": {},
   "outputs": [
    {
     "name": "stderr",
     "output_type": "stream",
     "text": [
      "[nltk_data] Downloading package punkt to\n",
      "[nltk_data]     C:\\Users\\aditt\\AppData\\Roaming\\nltk_data...\n",
      "[nltk_data]   Package punkt is already up-to-date!\n"
     ]
    },
    {
     "data": {
      "text/plain": [
       "True"
      ]
     },
     "execution_count": 14,
     "metadata": {},
     "output_type": "execute_result"
    }
   ],
   "source": [
    "nltk.download('punkt')"
   ]
  },
  {
   "cell_type": "code",
   "execution_count": 49,
   "metadata": {},
   "outputs": [],
   "source": [
    "def indeks_word_generator(list_words):\n",
    "    kata_unik = list(set(list_words))\n",
    "    indeks_kata = {kata: idx + 1 for idx, kata in enumerate(kata_unik)}\n",
    "    return indeks_kata"
   ]
  },
  {
   "cell_type": "code",
   "execution_count": 50,
   "metadata": {},
   "outputs": [],
   "source": [
    "def unique_word_generator(val_sentence, val_corrections, test_sentence, test_corrections):\n",
    "    all_words = []\n",
    "    \n",
    "    for sentence in val_sentence + test_sentence:\n",
    "        all_words.extend(sentence.split())\n",
    "        \n",
    "    for corrections in val_corrections + test_corrections:\n",
    "        for sentence in corrections:\n",
    "            all_words.extend(sentence.split())\n",
    "    \n",
    "    unique_words = list(set(all_words))\n",
    "    return unique_words"
   ]
  },
  {
   "cell_type": "code",
   "execution_count": 51,
   "metadata": {},
   "outputs": [],
   "source": [
    "unique_word = unique_word_generator(validation_sentence, validation_corrections, test_sentence, test_corrections)\n",
    "dictionary = indeks_word_generator(unique_word)"
   ]
  },
  {
   "cell_type": "code",
   "execution_count": 52,
   "metadata": {},
   "outputs": [
    {
     "name": "stdout",
     "output_type": "stream",
     "text": [
      "{'body': 1, 'discussing': 2, 'freshwater': 3, 'deeply': 4, 'plentiful': 5, 'appropriate': 6, 'overstating': 7, 'prescribed': 8, 'large': 9, 'unplanned': 10, 'motorcycle': 11, 'global': 12, 'pub': 13, 'minh': 14, 'competence': 15, 'naturally': 16, 'confusion': 17, 'threatens': 18, 'improving': 19, 'illegally': 20, 'freshwather': 21, 'reasoning': 22, 'understend': 23, 'interested': 24, 'imagination': 25, 'share': 26, 'effort': 27, 'agree': 28, 'subfields': 29, 'devastate': 30, 'smarter': 31, 'seperatley': 32, 'restaurant': 33, 'potassium': 34, 'coordinate': 35, 'learn': 36, 'diferents': 37, 'extreme': 38, 'compare': 39, 'purer': 40, 'fast': 41, 'others': 42, 'furthermore': 43, 'exam': 44, 'sujest': 45, 'study': 46, 'why': 47, 'after': 48, 'active': 49, 'clothes': 50, 'adolescence': 51, 'defining': 52, 'assist': 53, 'non': 54, 'pary': 55, 'meiji': 56, 'flu': 57, 'motor': 58, 'conepts': 59, 'wall': 60, 'traveler': 61, 'near': 62, 'borrowed': 63, 'deeper': 64, 'trasportation': 65, 'content': 66, 'performs': 67, 'greater': 68, 'envision': 69, 'habit': 70, 'easy': 71, 'child': 72, 'height': 73, 'advantegis': 74, 'deepthinking': 75, 'annoyed': 76, 'involves': 77, 'game': 78, 'y': 79, 'touring': 80, 'atracted': 81, 'year': 82, 'chain': 83, 'brighter': 84, 'based': 85, 'sacrifise': 86, 'enersy': 87, 'produced': 88, 'otherwise': 89, 'somebory': 90, 'specialize': 91, 'tip': 92, 'northern': 93, 'wild': 94, 'mean': 95, 'gasoline': 96, 'regular': 97, 'perticular': 98, 'braking': 99, 'mobile': 100, 'risked': 101, 'afterwards': 102, 'heart': 103, 'critic': 104, 'themself': 105, 'brought': 106, 'preventive': 107, 'unexpected': 108, 'home': 109, 'throught': 110, 'immediately': 111, 'person': 112, 'passion': 113, 'useful': 114, 'polititians': 115, 'jam': 116, 'timescedules': 117, 'summer': 118, 'early': 119, 'tokyo': 120, 'magazine': 121, 'choosed': 122, 'writter': 123, 'cricket': 124, 'safetiness': 125, 'cost': 126, 'chir': 127, 'erroneously': 128, 'selecting': 129, 'the': 130, 'how': 131, 'immergent': 132, 'return': 133, 'limited': 134, 'bothering': 135, 'nose': 136, 'abroad': 137, 'affords': 138, 'flocked': 139, 'second': 140, 'safe': 141, 'elementary': 142, 'talkkative': 143, 'basis': 144, 'visit': 145, 'deliberate': 146, 'factor': 147, 'illustrating': 148, 'activity': 149, 'added': 150, 'element': 151, 'stone': 152, 'impressive': 153, 'irreplaceable': 154, 'siences': 155, 'limit': 156, 'supplier': 157, 'outside': 158, 'era': 159, 'motif': 160, 'vice': 161, 'contradicts': 162, 'prevent': 163, 'term': 164, 'event': 165, 'keeping': 166, 'developped': 167, 'realize': 168, 'cup': 169, 'alcohol': 170, 'te': 171, 'technique': 172, 'win': 173, 'putted': 174, 'struck': 175, 'award': 176, 's': 177, 'transitional': 178, 'adevrtising': 179, 'see': 180, 'postive': 181, 'falling': 182, 'followed': 183, 'cycle': 184, 'renovation': 185, 'preferrences': 186, 'several': 187, 'proublem': 188, 'pressure': 189, 'guduate': 190, 'atp': 191, 'art': 192, 'socialization': 193, 'identify': 194, 'fish': 195, 'longer': 196, 'nonbiological': 197, 'fortunately': 198, 'where': 199, 'survival': 200, 'under': 201, 'stealer': 202, 'hazzle': 203, 'tire': 204, 'consider': 205, 'safety': 206, 'criticism': 207, 'mainly': 208, 'visualized': 209, 'close': 210, 'destroyed': 211, 'medium': 212, 'waterfuel': 213, 'unreplaciable': 214, 'sound': 215, 'existed': 216, 'repreat': 217, 'wok': 218, 'party': 219, 'reqired': 220, 'survive': 221, 'shall': 222, 'inflict': 223, 'rememberd': 224, 'fact': 225, 'autonomous': 226, 'augumenting': 227, 'metabolized': 228, 'socity': 229, 'effectively': 230, 'characterized': 231, 'utility': 232, 'metal': 233, 'gaining': 234, 'contain': 235, 'hired': 236, 'beforehand': 237, 'thinker': 238, 'privileged': 239, 'discovered': 240, 'impact': 241, 'spacific': 242, 'evolution': 243, 'respect': 244, 'food': 245, 'becasue': 246, 'define': 247, 'our': 248, 'them': 249, 'doe': 250, 'toy': 251, 'hause': 252, 'continued': 253, 'ecologist': 254, 'pueblo': 255, 'felt': 256, 'relationship': 257, 'p2p': 258, 'tour': 259, 'painting': 260, 'procedure': 261, 'soda': 262, 'yes': 263, 'insect': 264, 'inviroment': 265, 'expecting': 266, 'lopez': 267, 'joyfilled': 268, 'competitor': 269, 'length': 270, 'flue': 271, 'qualification': 272, 'upscale': 273, 'fight': 274, 'busiest': 275, 'soy': 276, 'finished': 277, 'free': 278, 'those': 279, 'becous': 280, 'working': 281, 'perfectly': 282, 'noticed': 283, 'sector': 284, 'advertisemets': 285, 'categorization': 286, 'broadcaster': 287, 'middleage': 288, 'criticized': 289, 'flow': 290, 'staying': 291, 'presenting': 292, 'sometime': 293, 'mine': 294, 'coluld': 295, 'device': 296, 'billgate': 297, 'marco': 298, 'include': 299, 'voluntad': 300, 'surface': 301, 'missing': 302, 'separately': 303, 'record': 304, 'conseder': 305, 'drastically': 306, 'determines': 307, 'quality': 308, 'clientele': 309, 'abbreviate': 310, 'cute': 311, 'petrol': 312, 'contradiction': 313, 'elaboration': 314, 'shown': 315, 'image': 316, 'experiment': 317, 'resource': 318, '37': 319, 'seeing': 320, 'wastefulness': 321, 'deserve': 322, 'controlling': 323, 'unreplenishable': 324, 'chirdren': 325, 'conversation': 326, '2': 327, 'violence': 328, 'fun': 329, 'decides': 330, 'route': 331, 'turned': 332, 'prescribing': 333, 'copious': 334, 'treated': 335, 'anybody': 336, 'whose': 337, 'organization': 338, 'researcher': 339, 'insistments': 340, 'brian': 341, 'hair': 342, 'department': 343, 'sufficient': 344, 'undertand': 345, 'piano': 346, 'equipment': 347, 'viewpoint': 348, 'wonder': 349, 'comprehend': 350, 'capability': 351, 'proposing': 352, 'eligiable': 353, 'acquire': 354, 'achieves': 355, 'exactly': 356, 'regret': 357, 'find': 358, 'played': 359, 'transit': 360, 'together': 361, 'abd': 362, 'experienced': 363, 'stand': 364, 'live': 365, 'regulation': 366, 'detailled': 367, 'one': 368, 'gather': 369, 'methane': 370, 'regard': 371, 'greatest': 372, 'because': 373, 'money': 374, 'parent': 375, 'showing': 376, 'temparture': 377, 'cell': 378, 'useless': 379, 'known': 380, 'between': 381, 'payment': 382, 'diana': 383, 'carebendiocside': 384, 'maker': 385, 'speed': 386, 'yang': 387, 'acceptable': 388, 'scary': 389, 'economically': 390, 'hamburger': 391, 'sharing': 392, 'kept': 393, 'whenever': 394, 'private': 395, 'succussful': 396, 'ecologically': 397, 'searched': 398, 'then': 399, 'selfexperiences': 400, 'promblems': 401, 'piece': 402, 'beautiful': 403, 'baught': 404, 'determining': 405, 'clear': 406, 'whithout': 407, 'release': 408, 'there': 409, 'chane': 410, 'furethermore': 411, 'ensures': 412, 'bell': 413, 'possibility': 414, 'major': 415, 'behind': 416, 'gradually': 417, 'thy': 418, 'ibm': 419, 'amount': 420, 'operation': 421, 'hung': 422, 'more': 423, 'unable': 424, 'homework': 425, 'believe': 426, 'worst': 427, 'unforturntly': 428, 'consisting': 429, 'thirdworld': 430, 'supervisor': 431, 'crucial': 432, 'adjusting': 433, 'larned': 434, 'inhabitant': 435, 'overrall': 436, 'building': 437, 'soul': 438, 'dicease': 439, 'group': 440, 'wellpaying': 441, 'throughts': 442, 'listened': 443, 'll': 444, 'responsible': 445, 'tanmant': 446, 'whitch': 447, 'transporter': 448, 'spend': 449, 'environmentallyinduced': 450, 'conducted': 451, 'arkward': 452, 'dell': 453, 'damged': 454, 'soon': 455, 'epople': 456, 'contribution': 457, 'goverments': 458, 'exammple': 459, 'striped': 460, 'b': 461, 'real': 462, 'uncerfied': 463, 'stay': 464, 'tube': 465, 'english': 466, 'seminal': 467, 'without': 468, 'proof': 469, 'whether': 470, 'suffered': 471, 'irrisponsble': 472, 'amazing': 473, 'grandmother': 474, 'confident': 475, 'generation': 476, 'burning': 477, 'lack': 478, 'forgotten': 479, 'affecting': 480, 'mao': 481, 'opinion': 482, 'preference': 483, 'uniformity': 484, 'owner': 485, 'generator': 486, 'entirely': 487, 'opening': 488, 'engineering': 489, 'downtown': 490, 'efficiency': 491, 'appreciated': 492, 'scenario': 493, 'improve': 494, 'loss': 495, 'dental': 496, 'secret': 497, 'settled': 498, 'burn': 499, 'myself': 500, 'reviewing': 501, 'send': 502, 'destination': 503, 'mor': 504, 'almost': 505, 'thie': 506, 'refer': 507, 'mind': 508, 'propose': 509, '7': 510, 'mention': 511, 'hole': 512, 'chair': 513, 'nazi': 514, 'in': 515, 'already': 516, 'explain': 517, 'ourself': 518, 'manipulated': 519, 'sharp': 520, 'joke': 521, 'tahy': 522, 'speaking': 523, 'accident': 524, 'exists': 525, 'pollution': 526, 'whlie': 527, 'jus': 528, 'yong': 529, 'transported': 530, 'deception': 531, 'nagatice': 532, 'grade': 533, 'grammar': 534, 'camera': 535, 'excellent': 536, 'actualy': 537, 'google': 538, 'admission': 539, 'per': 540, 'belowed': 541, 'primary': 542, 'over': 543, 'disagreed': 544, 'safty': 545, 'quantitiy': 546, 'compareing': 547, 'puebo': 548, 'retain': 549, 'expienrence': 550, 'security': 551, 'maket': 552, 'fiction': 553, 'gathered': 554, 'wide': 555, 'saying': 556, 'if': 557, 'relates': 558, 'endeavor': 559, 'increase': 560, 'plant': 561, 'apportunity': 562, 'chalanges': 563, 'declining': 564, 'achieve': 565, 'heard': 566, 'longterm': 567, 'stable': 568, '1st': 569, 'touched': 570, 'pool': 571, 'hobby': 572, 'terrible': 573, 'induced': 574, 'thinmg': 575, 'ancient': 576, 'patent': 577, 'grip': 578, 'took': 579, 'within': 580, 'growing': 581, 'way': 582, 'recognize': 583, 'afterward': 584, 'undying': 585, 'require': 586, 'she': 587, 'trained': 588, 'express': 589, 'detector': 590, 'awhile': 591, 'willingness': 592, 'risk': 593, 'disadvantage': 594, 'challenge': 595, 'weight': 596, 'logically': 597, 'auther': 598, 'politica': 599, 'sum': 600, 'eaten': 601, 'be': 602, 'reduce': 603, 'junkyard': 604, 'situation': 605, 'definition': 606, 'himselfherself': 607, 'statue': 608, 'firstly': 609, 'apart': 610, 'smaile': 611, 'suit': 612, 'becoming': 613, 'they': 614, 'deal': 615, 'am': 616, 'saw': 617, '1400': 618, 'facetoface': 619, 'practiced': 620, 'refused': 621, 'diffrence': 622, 'robot': 623, 'japen': 624, 'every': 625, 'wasteful': 626, 'contruction': 627, 'inflaction': 628, 'picture': 629, 'combining': 630, 'howto': 631, 'transforming': 632, 'town': 633, 'oft': 634, 'feel': 635, 'theme': 636, 'math': 637, 'month': 638, 'knowedge': 639, 'possible': 640, 'set': 641, 'solfware': 642, 'integration': 643, 'intrested': 644, 'remembered': 645, 'comfort': 646, 'incrismt': 647, 'peolpe': 648, 'cut': 649, 'maximize': 650, 'farmer': 651, 'bussinis': 652, 'mater': 653, 'navigate': 654, 'youg': 655, 'fourtunately': 656, '1th': 657, 'comercial': 658, 'who': 659, 'obvious': 660, 'invent': 661, 'struggling': 662, 'clue': 663, 'owns': 664, 'ozone': 665, 'police': 666, 'field': 667, 'actual': 668, 'declined': 669, 'loses': 670, 'coldness': 671, 'managing': 672, 'theoretical': 673, 'stolen': 674, 'bangkok': 675, 'breakthrough': 676, 'product': 677, 'heat': 678, 'pluto': 679, 'priscibing': 680, 'frequently': 681, 'gambling': 682, 'film': 683, 'sir': 684, 'same': 685, 'undertairn': 686, 'ballast': 687, 'relation': 688, 'inspiration': 689, 'mongol': 690, 'powered': 691, 'attending': 692, 'succes': 693, 'arises': 694, 'fo': 695, 'expect': 696, 'pathway': 697, 'mba': 698, 'menhadenhresting': 699, 'competancy': 700, 'rate': 701, 'subjectjust': 702, 'startet': 703, 'equipped': 704, 'difrent': 705, 'zenra': 706, 'recods': 707, 'speices': 708, 'china': 709, 'tha': 710, 'needed': 711, 'annd': 712, 'motorization': 713, '20': 714, 'development': 715, 'theirs': 716, 'overpriced': 717, 'request': 718, 'monologue': 719, 'heatenergy': 720, 'meteorite': 721, 'un': 722, 'advert': 723, 'organize': 724, 'plumbing': 725, 'mass': 726, 'decrease': 727, 'station': 728, 'careful': 729, 'weekend': 730, 'hirring': 731, 'toyota': 732, 'successfull': 733, 'perhaps': 734, 'pottesium': 735, 'becayse': 736, 'success': 737, 'accordingly': 738, 'bmw': 739, 'broader': 740, 'contributor': 741, 'used': 742, 'realtionship': 743, 'call': 744, 'regulate': 745, 'user': 746, 'selfdriving': 747, 'angle': 748, 'are': 749, 'girl': 750, 'regarding': 751, 'watchwearers': 752, 'via': 753, 'a': 754, 'practical': 755, 'encourage': 756, 'ca': 757, 'compulsory': 758, 'crystal': 759, 'makeing': 760, 'whatever': 761, 'american': 762, 'role': 763, 'wake': 764, 'ample': 765, 'detail': 766, 'planet': 767, 'etcthis': 768, 'go': 769, 'solidifies': 770, 'wo': 771, 'promoter': 772, 'high': 773, 'incoming': 774, 'definitly': 775, 'remember': 776, 'suddenly': 777, 'accommodated': 778, 'syllabus': 779, 'fatalistic': 780, 'singapore': 781, 'preventative': 782, 'empirical': 783, 'push': 784, 'viable': 785, 'reading': 786, 'tool': 787, 'necessarily': 788, 'toefl': 789, 'confines': 790, 'purchase': 791, 'burden': 792, 'construct': 793, 'textile': 794, 'digtalcamera': 795, 'liberty': 796, 'managed': 797, 'socalled': 798, 'yield': 799, 'bachelor': 800, 'differently': 801, 'creates': 802, 'nice': 803, 'consumption': 804, 'five': 805, 'professional': 806, 'theacher': 807, 'effecting': 808, 'alternatively': 809, 'salvage': 810, 'thirst': 811, '2years': 812, 'practitioner': 813, 'error': 814, 'byproduct': 815, 'interest': 816, 'moss': 817, 'neighbour': 818, 'amusement': 819, 'load': 820, 'pointed': 821, 'nonpolluting': 822, 'ashamed': 823, 'sorting': 824, 'cardiologist': 825, 'chinese': 826, 'besides': 827, 'catching': 828, 'scroll': 829, 'mathematics': 830, 'nt': 831, 'transportation': 832, 'locally': 833, 'unconventional': 834, 'well': 835, 'easily': 836, 'hire': 837, 'salary': 838, 'eye': 839, 'antell': 840, 'landmark': 841, 'luck': 842, 'repeat': 843, 'appearance': 844, 'impression': 845, 'depth': 846, 'shopping': 847, 'fatalist': 848, 'worsen': 849, 'politics': 850, 'landed': 851, 'accessing': 852, 'intelligence': 853, 'quote': 854, 'thanks': 855, 'deceasing': 856, 'meaning': 857, 'happenis': 858, 'claimed': 859, 'problemes': 860, 'dhe': 861, 'dram': 862, 'commonsense': 863, 'reaching': 864, 'reached': 865, 'predictable': 866, 'pollute': 867, 'completing': 868, 'trouble': 869, 'replace': 870, 'thier': 871, 'by': 872, 'generating': 873, 'short': 874, 'ship': 875, 'trend': 876, 'restriction': 877, 'loud': 878, 'succeeded': 879, 'love': 880, 'system': 881, 'requre': 882, 'enemy': 883, 'thez': 884, 'marked': 885, 'markting': 886, 'block': 887, 'flying': 888, 'ignor': 889, 'shame': 890, 'disaster': 891, 'bike': 892, 'thief': 893, 'through': 894, '4': 895, 'room': 896, 'utilisation': 897, 'sky': 898, 'wearing': 899, 'choosing': 900, 'reality': 901, 'sunlight': 902, 'becase': 903, 'effected': 904, 'opiniom': 905, 'wander': 906, 'obbvious': 907, 'turn': 908, 'predator': 909, 'condcted': 910, 'undernearth': 911, 'meal': 912, 'adiction': 913, 'reasercher': 914, 'harnessed': 915, 'fired': 916, 'army': 917, 'participating': 918, 'homecontry': 919, 'factoring': 920, 'sleep': 921, 'allow': 922, 'critique': 923, 'meritbased': 924, 'spreading': 925, 'cake': 926, 'anyone': 927, 'newfashion': 928, 'bring': 929, 'perpose': 930, 'place': 931, 'lacking': 932, 'undergo': 933, 'especially': 934, 'proverb': 935, 'successful': 936, 'basically': 937, 'relax': 938, 'enogh': 939, 'rightly': 940, 'been': 941, 'suggest': 942, 'treasure': 943, 't': 944, 'le': 945, 'merit': 946, 'whaching': 947, 'discipline': 948, 'funciton': 949, 'sceene': 950, 'animal': 951, 'garden': 952, 'magnetite': 953, 'speciality': 954, 'alon': 955, 'far': 956, 'duly': 957, 'welltrained': 958, 'brainstorm': 959, 'fan': 960, 'dislike': 961, 'graham': 962, 'imroved': 963, 'predatpres': 964, 'mat': 965, 'allowing': 966, 'fastpaced': 967, 'choice': 968, 'report': 969, 'fresh': 970, 'themselves': 971, 'palce': 972, 'opposed': 973, 'perfecty': 974, 'feature': 975, 'care': 976, 'video': 977, 'closed': 978, 'mentioned': 979, '100million': 980, 'look': 981, 'allday': 982, 'tecah': 983, 'internally': 984, 'decrement': 985, 'publicity': 986, 'check': 987, 'eldelery': 988, 'bathe': 989, 'significant': 990, 'tuition': 991, 'woek': 992, 'everincreasing': 993, '1': 994, 'untill': 995, 'lowincome': 996, 'paradise': 997, 'lfe': 998, 'nineteen': 999, 'employment': 1000, 'importand': 1001, 'compensated': 1002, 'advertise': 1003, 'indeed': 1004, 'stopping': 1005, 'drag': 1006, 'tongue': 1007, 'enviroment': 1008, 'served': 1009, 'litreture': 1010, 'inwall': 1011, 'compatible': 1012, 'his': 1013, 'soil': 1014, 'fulture': 1015, 'nowhere': 1016, 'pay': 1017, 'topic': 1018, 'arguement': 1019, 'encylopedia': 1020, 'lesson': 1021, 'actually': 1022, 'battlefield': 1023, 'undersatnd': 1024, 'campaign': 1025, 'bear': 1026, 'arrive': 1027, 'laying': 1028, 'therfor': 1029, 'lowered': 1030, 'stimulate': 1031, 'cheaper': 1032, 'nationally': 1033, 'web': 1034, 'nonstop': 1035, 'choose': 1036, '0th': 1037, 'enjoyment': 1038, 'somethink': 1039, 'denies': 1040, 'ent': 1041, 'indicate': 1042, 'contenant': 1043, 'inability': 1044, 'cover': 1045, 'carry': 1046, 'scholar': 1047, 'parking': 1048, '12': 1049, 'richest': 1050, 'pier': 1051, 'satisfiy': 1052, 'knowing': 1053, 'reserched': 1054, 'operatating': 1055, 'becaese': 1056, 'assignment': 1057, 'interior': 1058, 'artist': 1059, 'trouser': 1060, 'teaching': 1061, 'starting': 1062, 'killed': 1063, 'datailed': 1064, 'authour': 1065, 'dy': 1066, 'accessible': 1067, 'suggested': 1068, 'than': 1069, 'text': 1070, 'post': 1071, 'engaging': 1072, 'undeniable': 1073, 'implies': 1074, 'kindgom': 1075, 'mankind': 1076, 'anyway': 1077, 'docters': 1078, 'depleted': 1079, 'seing': 1080, 'heating': 1081, 'much': 1082, 'oppose': 1083, 'dioxide': 1084, 'astonishing': 1085, 'process': 1086, 'boston': 1087, 'taste': 1088, 'organised': 1089, 'hope': 1090, 'forced': 1091, 'brifly': 1092, 'general': 1093, 'possibly': 1094, 'final': 1095, 'exsit': 1096, 'everyone': 1097, 'divoution': 1098, 'cafe': 1099, 'join': 1100, 'score': 1101, 'side': 1102, 'discus': 1103, 'you': 1104, 'undergroud': 1105, 'businessman': 1106, 'philosopher': 1107, 'impossible': 1108, 'hearing': 1109, 'perfection': 1110, 'later': 1111, 'window': 1112, 'obtained': 1113, 'industry': 1114, 'specie': 1115, 'hurt': 1116, 'analysis': 1117, 'backbone': 1118, 'hero': 1119, 'argued': 1120, 'nocive': 1121, 'coast': 1122, 'talking': 1123, 'started': 1124, 'disking': 1125, 'annoy': 1126, 'entruy': 1127, 'goldlike': 1128, 'resolve': 1129, 'note': 1130, 'head': 1131, 'tewenty': 1132, 'dry': 1133, 'wouderful': 1134, 'worried': 1135, 'emitted': 1136, 'truth': 1137, 'about': 1138, 'during': 1139, 'teenager': 1140, 'gate': 1141, 'unlikely': 1142, 'strange': 1143, 'data': 1144, 'morning': 1145, 'figurout': 1146, 'rason': 1147, 'off': 1148, 'bone': 1149, 'knowledge': 1150, 'narrow': 1151, 'produce': 1152, 'facing': 1153, 'importen': 1154, 'chooses': 1155, 'teached': 1156, 'total': 1157, 'plato': 1158, 'annoying': 1159, 'replaced': 1160, 'conformity': 1161, 'delicious': 1162, 'ability': 1163, 'chaos': 1164, 'greek': 1165, 'appear': 1166, 'confused': 1167, 'peer': 1168, 'strive': 1169, 'listed': 1170, 'knowledgeable': 1171, 'drove': 1172, 'yonger': 1173, 'human': 1174, 'raised': 1175, 'everything': 1176, 'fluoride': 1177, 'get': 1178, 'won': 1179, 'peaple': 1180, 'everybody': 1181, 'taught': 1182, 'link': 1183, 'disease': 1184, 'connection': 1185, 'bussines': 1186, 'surrounding': 1187, 'beacuse': 1188, 'step': 1189, 'attracts': 1190, 'classmate': 1191, 'u': 1192, 'happy': 1193, 'swim': 1194, 'contains': 1195, 'helpfull': 1196, 'generated': 1197, 'testing': 1198, 'desktop': 1199, 'rule': 1200, 'capacity': 1201, 'judge': 1202, 'bacteria': 1203, 'four': 1204, 'coming': 1205, 'additionaly': 1206, 'bismarck': 1207, 'behaved': 1208, 'cometure': 1209, 'prepared': 1210, 'hiring': 1211, 'biochemistry': 1212, 'carefully': 1213, 'tunguska': 1214, 'renovate': 1215, 'gas': 1216, 'interaction': 1217, 'support': 1218, 'digging': 1219, 'assume': 1220, 'communicates': 1221, 'initiative': 1222, 'older': 1223, 'adult': 1224, 'unit': 1225, 'talented': 1226, 'certification': 1227, 'olders': 1228, 'adequate': 1229, 'read': 1230, 'hold': 1231, 'like': 1232, 'speace': 1233, 'anderstand': 1234, 'search': 1235, 'play': 1236, 'grasp': 1237, 'planning': 1238, 'reliable': 1239, 'cleared': 1240, 'upon': 1241, 'time': 1242, 'reflex': 1243, 'rigor': 1244, 'wholeheartedly': 1245, 'satisfy': 1246, 'absence': 1247, 'cousin': 1248, 'plain': 1249, 'newspaper': 1250, 'possetion': 1251, 'businessmen': 1252, 'particularly': 1253, 'unplanly': 1254, 'purchased': 1255, 'applied': 1256, 'studens': 1257, 'mark': 1258, 'hacker': 1259, 'itself': 1260, 'chance': 1261, 'design': 1262, 'phenomenon': 1263, 'separate': 1264, 'somewher': 1265, 'antel': 1266, 'reciprocate': 1267, 'drought': 1268, 'buzzer': 1269, 'wind': 1270, 'principle': 1271, 'wellrounded': 1272, 'follow': 1273, 'truthworthy': 1274, 'enjoy': 1275, 'forgetting': 1276, 'emergence': 1277, 'hospital': 1278, 'fame': 1279, 'educated': 1280, 'reasen': 1281, 'end': 1282, 'prople': 1283, 'destined': 1284, 'lane': 1285, 'never': 1286, 'arrived': 1287, 'pass': 1288, 'becomes': 1289, 'struggle': 1290, 'academic': 1291, 'outline': 1292, 'furious': 1293, 'tooth': 1294, 'popular': 1295, 'sevral': 1296, 'grobal': 1297, 'polluted': 1298, 'somethig': 1299, 'juise': 1300, 'graduation': 1301, 'khafre': 1302, 'provide': 1303, 'teamwork': 1304, 'lightning': 1305, 'word': 1306, 'caused': 1307, 'freedom': 1308, 'attractive': 1309, 'speaker': 1310, 'next': 1311, 'paced': 1312, 'specifying': 1313, 'mang': 1314, 'again': 1315, 'dead': 1316, 'brotherhood': 1317, 'concerned': 1318, 'satisfying': 1319, 'nor': 1320, 'plenty': 1321, 'bank': 1322, 'celebrating': 1323, 'effect': 1324, 'youth': 1325, 'affect': 1326, 'competition': 1327, 'want': 1328, 'both': 1329, 'illusion': 1330, 'stupidly': 1331, 'president': 1332, '12years': 1333, 'bmws': 1334, 'cauntry': 1335, 'thad': 1336, 'thirty': 1337, 'togather': 1338, 'obtain': 1339, 'fee': 1340, 'race': 1341, 'joined': 1342, 'exercitation': 1343, 'electrical': 1344, 'learl': 1345, 'celestial': 1346, 'inmany': 1347, 'agee': 1348, 'outdated': 1349, 'trueth': 1350, 'favorit': 1351, 'throuhout': 1352, 'cooking': 1353, 'restricted': 1354, 'diffrent': 1355, 'fashional': 1356, 'replacment': 1357, 'poison': 1358, 'baed': 1359, 'frivolous': 1360, 'addiction': 1361, 'muging': 1362, 'master': 1363, 'related': 1364, 'problem': 1365, 'los': 1366, 'chin': 1367, 'alerady': 1368, 'europe': 1369, 'smart': 1370, 'productive': 1371, 'awkward': 1372, 'oldage': 1373, 'meant': 1374, 'hour': 1375, 'sure': 1376, 'strainge': 1377, 'listenig': 1378, 'supported': 1379, 'bi': 1380, 'estimate': 1381, 'leadership': 1382, 'physic': 1383, 'relativity': 1384, 'considerably': 1385, 'colecting': 1386, 'majoring': 1387, 'hurdle': 1388, 'riks': 1389, 'behave': 1390, 'huthis': 1391, 'moviment': 1392, 'enable': 1393, 'damaging': 1394, 'bored': 1395, 'pargarghs': 1396, 'manufatures': 1397, 'disegree': 1398, 'vanished': 1399, 'control': 1400, 'althogh': 1401, 'advanced': 1402, 'attributers': 1403, 'ash': 1404, 'golden': 1405, 'ball': 1406, 'lake': 1407, 'floop': 1408, 'elder': 1409, 'drawn': 1410, 'firmly': 1411, 'specializes': 1412, 'alwayse': 1413, 'bath': 1414, 'scientifc': 1415, 'spending': 1416, 'proffeser': 1417, 'physical': 1418, 'perception': 1419, 'alony': 1420, 'situaction': 1421, 'guaranteed': 1422, 'escape': 1423, 'regarded': 1424, 'faith': 1425, 'item': 1426, 'everywhere': 1427, 'geology': 1428, 'gon': 1429, 'organism': 1430, 'referring': 1431, 'bottele': 1432, 'greenhouse': 1433, 'cast': 1434, 'character': 1435, 'systm': 1436, 'experiance': 1437, 'bass': 1438, 'late': 1439, 'anasazi': 1440, 'nongelatinized': 1441, 'nonfluoridated': 1442, 'nowdays': 1443, 'relatively': 1444, 'hardship': 1445, 'greatly': 1446, 'need': 1447, 'mar': 1448, 'past': 1449, 'forest': 1450, 'customer': 1451, 'noneuropeans': 1452, 'engages': 1453, 'inquiry': 1454, 'endothermic': 1455, 'reduction': 1456, 'differentiating': 1457, 'their': 1458, 'thermodynamics': 1459, 'cours': 1460, 'someday': 1461, 'outweighs': 1462, 'land': 1463, 'car': 1464, 'cheep': 1465, 'employ': 1466, 'big': 1467, 'hungry': 1468, 'alternative': 1469, 'energy': 1470, 'combat': 1471, 'tell': 1472, 'genaration': 1473, 'deteir': 1474, '1400s': 1475, 'chimp': 1476, 'ahead': 1477, 'everybory': 1478, 'observed': 1479, 'east': 1480, 'tramway': 1481, 'inorder': 1482, 'meeting': 1483, 'rising': 1484, 'jennife': 1485, 'forget': 1486, 'generate': 1487, 'chanceof': 1488, 'reported': 1489, 'unfortunately': 1490, 'allowed': 1491, 'familiar': 1492, '7unsuspection': 1493, 'glance': 1494, 'hapiness': 1495, 'compuer': 1496, 'claiming': 1497, 'pul': 1498, 'heartedly': 1499, 'trasisional': 1500, 'loan': 1501, 'imply': 1502, 'original': 1503, 'rasing': 1504, 'scorched': 1505, 'market': 1506, 'fortune': 1507, 'welltodo': 1508, 'sad': 1509, 'placed': 1510, 'mathematical': 1511, 'future': 1512, 'may': 1513, 'internationally': 1514, '6': 1515, 'prepare': 1516, 'none': 1517, 'achieved': 1518, 'peple': 1519, 'zhenning': 1520, 'buy': 1521, 'put': 1522, 'warming': 1523, 'mental': 1524, 'gratuation': 1525, 'habitant': 1526, 'feeling': 1527, 'stablely': 1528, 'korea': 1529, 'bulb': 1530, 'trial': 1531, 'newfasion': 1532, 'randomly': 1533, 'unbelievably': 1534, 'seven': 1535, 'few': 1536, 'trick': 1537, 'punishment': 1538, 'lucky': 1539, 'advertisemnet': 1540, 'resulting': 1541, 'saving': 1542, '70': 1543, 'leaf': 1544, 'thomas': 1545, 'simply': 1546, 'found': 1547, 'inculcate': 1548, 'cause': 1549, 'connect': 1550, 'alive': 1551, 'surveyed': 1552, 'deciding': 1553, 'comportable': 1554, 'scienses': 1555, 'helping': 1556, 'recently': 1557, 'giving': 1558, 'repect': 1559, 'north': 1560, 'approprite': 1561, 'dragged': 1562, 'research': 1563, 'emission': 1564, 'rouds': 1565, 'esp': 1566, 'coz': 1567, 'poinetd': 1568, 'pair': 1569, 'learns': 1570, 'chaimust': 1571, 'low': 1572, 'boay': 1573, 'possitive': 1574, 'grandparent': 1575, 'fry': 1576, 'outstanding': 1577, 'merely': 1578, 'teach': 1579, 'spread': 1580, 'learning': 1581, 'size': 1582, 'chemical': 1583, 'bean': 1584, 'version': 1585, 'bookmaker': 1586, 'cannto': 1587, 'tried': 1588, 'glimpse': 1589, 'worthy': 1590, 'remain': 1591, 'succesfull': 1592, 'amricans': 1593, 'tremendous': 1594, 'legend': 1595, 'bravery': 1596, 'benefitial': 1597, 'carried': 1598, 'upped': 1599, 'long': 1600, 'anytime': 1601, 'flock': 1602, 'ford': 1603, 'against': 1604, 'purpose': 1605, 'millionaire': 1606, 'geography': 1607, 'kind': 1608, 'ad': 1609, 'satisfies': 1610, 'emergency': 1611, 'muddling': 1612, 'loudly': 1613, 'article': 1614, 'medicine': 1615, 'occuring': 1616, 'right': 1617, 'microorganism': 1618, 'distance': 1619, 'aspect': 1620, 'listening': 1621, 'threat': 1622, 'toungh': 1623, 'inefficient': 1624, 'curing': 1625, 'sell': 1626, 'unemployment': 1627, 'vees': 1628, 'ilmmaking': 1629, 'peole': 1630, 'dependent': 1631, 'gone': 1632, 'arising': 1633, 'endotherms': 1634, 'lecture': 1635, 'partner': 1636, 'proficiency': 1637, 'ha': 1638, 'review': 1639, 'bill': 1640, 'praise': 1641, 'susidise': 1642, 'perormer': 1643, 'above': 1644, 'freshman': 1645, 'creative': 1646, 'rerationship': 1647, 'preciuos': 1648, 'just': 1649, 'so': 1650, 'comfortable': 1651, 'walk': 1652, 'rebuff': 1653, 'amrican': 1654, 'driven': 1655, 'gole': 1656, 'held': 1657, 'difficult': 1658, 'establishing': 1659, 'met': 1660, 'reflest': 1661, 'determine': 1662, 'united': 1663, 'hardwork': 1664, 'aleady': 1665, 'curative': 1666, 'dealership': 1667, 'certified': 1668, 'fully': 1669, 'face': 1670, 'anymore': 1671, 'improved': 1672, 'opened': 1673, 'towards': 1674, 'shift': 1675, 'unreal': 1676, 'nitrogen': 1677, 'favor': 1678, 'investment': 1679, 'guided': 1680, 'lawyer': 1681, 'part': 1682, 'told': 1683, 'psychological': 1684, 'acquainted': 1685, 'country': 1686, 'street': 1687, 'relevant': 1688, 'belief': 1689, 'editorial': 1690, 'promoted': 1691, 'shelf': 1692, 'some': 1693, 'gymnasium': 1694, 'fixing': 1695, 'except': 1696, 'drinking': 1697, 'life': 1698, 'increasingly': 1699, 'specific': 1700, 'worry': 1701, 'funny': 1702, 'ho': 1703, 'commitment': 1704, 'suffer': 1705, 'scientific': 1706, 'risktaking': 1707, 'sportman': 1708, 'key': 1709, 'stronger': 1710, 'timeline': 1711, 'diet': 1712, 'having': 1713, 'mathmatics': 1714, 'for': 1715, 'instead': 1716, 'telling': 1717, 'output': 1718, 'language': 1719, 'bat': 1720, 'familes': 1721, 'adage': 1722, 'graduating': 1723, 'latin': 1724, 'illed': 1725, 'toothpaste': 1726, 'alien': 1727, 'soft': 1728, 'designed': 1729, 'nonconventional': 1730, 'entity': 1731, 'ride': 1732, 'vacation': 1733, 'concentrated': 1734, 'specialty': 1735, 'additional': 1736, 'flavor': 1737, 'dis': 1738, 'implicate': 1739, 'formura': 1740, 'weatherrelated': 1741, 'german': 1742, '200': 1743, 'prevents': 1744, 'turm': 1745, 'certaily': 1746, 'here': 1747, 'ocean': 1748, 'bombardment': 1749, 'accomadated': 1750, 'stupid': 1751, 'civilization': 1752, 'pleased': 1753, 'precious': 1754, 'trade': 1755, 'smoke': 1756, 'importance': 1757, 'caput': 1758, 'tecnologies': 1759, 'childhood': 1760, 'line': 1761, 'watch': 1762, 'fangled': 1763, 'forward': 1764, 'harmful': 1765, 'remein': 1766, 'shcool': 1767, 'sorry': 1768, 'argue': 1769, 'technological': 1770, 'robber': 1771, 'resulted': 1772, 'exit': 1773, 'author': 1774, 'france': 1775, 'attempting': 1776, 'percent': 1777, 'smaller': 1778, 'normal': 1779, 'idease': 1780, 'lead': 1781, 'kyoto': 1782, 'arisky': 1783, 'travelling': 1784, 'extra': 1785, 'micro': 1786, 'neither': 1787, 'beneficial': 1788, 'unmeaningful': 1789, 'conclution': 1790, 'stressfull': 1791, 'water': 1792, 'grandchild': 1793, 'invest': 1794, 'esteemed': 1795, 'occupied': 1796, 'memory': 1797, 'needt': 1798, 'jennifer': 1799, 'overprice': 1800, 'me': 1801, 'introducing': 1802, 'cross': 1803, '100': 1804, 'specializing': 1805, 'cretain': 1806, 'st': 1807, 'income': 1808, 'thay': 1809, 'seriously': 1810, 'idean': 1811, 'availablity': 1812, 'anywhere': 1813, 'luxery': 1814, 'west': 1815, 'somethings': 1816, 'temperature': 1817, 'hare': 1818, 'lawsuit': 1819, 'mordern': 1820, 'competency': 1821, '8': 1822, 'emitting': 1823, 'napoleon': 1824, 'relating': 1825, 'istanbul': 1826, 'humanity': 1827, 'prof': 1828, 'underground': 1829, 'successfully': 1830, 'eruope': 1831, 'planned': 1832, 'plus': 1833, 'entry': 1834, 'researched': 1835, 'tast': 1836, 'strugles': 1837, 'visited': 1838, 'staff': 1839, 'mineral': 1840, 'mislead': 1841, 'level': 1842, 'official': 1843, 'holistic': 1844, 'responsibilites': 1845, 'wayse': 1846, 'name': 1847, 'emperor': 1848, 'definately': 1849, 'refuced': 1850, 'contrast': 1851, 'concern': 1852, 'raher': 1853, 'raspsquo': 1854, 'secondly': 1855, 'fat': 1856, 'decide': 1857, 'deaply': 1858, 'switch': 1859, 'correctly': 1860, 'desire': 1861, 'fit': 1862, 'dog': 1863, 'hit': 1864, 'vision': 1865, 'encourages': 1866, 'written': 1867, 'century': 1868, 'exist': 1869, 'utilization': 1870, 'noring': 1871, 'scanning': 1872, 'six': 1873, 'waseda': 1874, 'ended': 1875, 'unstable': 1876, 'emphesizeing': 1877, 'soap': 1878, 'brilliant': 1879, 'goup': 1880, '__': 1881, 'hop': 1882, 'additionally': 1883, 'gain': 1884, 'internation': 1885, 'stimulating': 1886, 'seminar': 1887, 'trying': 1888, 'predetor': 1889, 'really': 1890, 'factually': 1891, 'groval': 1892, 'disappearance': 1893, 'erosion': 1894, 'closest': 1895, 'rich': 1896, 'wait': 1897, 'occurs': 1898, 'engineer': 1899, 'endotherm': 1900, 'property': 1901, 'yourself': 1902, 'victory': 1903, 'citizen': 1904, 'taht': 1905, 'fume': 1906, 'reign': 1907, 'dinosaur': 1908, 'drink': 1909, 'advertising': 1910, 'supermarket': 1911, 'lessen': 1912, 'inappropriate': 1913, 'smile': 1914, 'luxury': 1915, 'understands': 1916, 'reasonable': 1917, 'going': 1918, 'reducing': 1919, 'goog': 1920, 'requires': 1921, 'biomechanics': 1922, 'wa': 1923, 'alsow': 1924, 'guide': 1925, 'lightening': 1926, 'her': 1927, 'functionality': 1928, 'happened': 1929, 'understanding': 1930, 'aloud': 1931, 'each': 1932, 'appreciation': 1933, 'experinces': 1934, 'ealy': 1935, 'moved': 1936, 'donot': 1937, 'closeup': 1938, 'comming': 1939, 'watching': 1940, 'stably': 1941, 'woman': 1942, 'decreasing': 1943, 'weaker': 1944, 'death': 1945, 'divided': 1946, 'ballet': 1947, 'fine': 1948, 'laptop': 1949, 'carbohydarte': 1950, 'poins': 1951, 'corp': 1952, 'down': 1953, 'functioning': 1954, 'develope': 1955, 'attitude': 1956, 'said': 1957, 'show': 1958, 'running': 1959, 'tims': 1960, 'latest': 1961, 'react': 1962, 'justice': 1963, 'while': 1964, 'grammer': 1965, 'store': 1966, 'moon': 1967, 'unability': 1968, 'reason': 1969, 'concept': 1970, 'holding': 1971, 'necessary': 1972, 'dengerous': 1973, 'graduate': 1974, 'totaly': 1975, 'happening': 1976, 'interact': 1977, 'carefull': 1978, 'growthinducing': 1979, 'teeming': 1980, 'experiencing': 1981, 'eassy': 1982, 'milk': 1983, 'declination': 1984, 'jack': 1985, 'chemistry': 1986, 'satisfied': 1987, 'unusual': 1988, 'culture': 1989, 'die': 1990, 'endothermy': 1991, 'reserved': 1992, 'belongs': 1993, 'hishers': 1994, 'branch': 1995, 'editor': 1996, 'with': 1997, 'willing': 1998, 'killing': 1999, 'fishing': 2000, 'joing': 2001, 'anything': 2002, 'attendence': 2003, 'prasdent': 2004, 'certain': 2005, 'influence': 2006, 'learned': 2007, 'steal': 2008, 'changed': 2009, 'hard': 2010, 'happend': 2011, 'disability': 2012, 'strongest': 2013, 'stranger': 2014, 'construction': 2015, 'reduses': 2016, '5060': 2017, 'settlement': 2018, 'strategy': 2019, 'financial': 2020, 'fore': 2021, 'ask': 2022, 'lovely': 2023, 'mother': 2024, 'dangerous': 2025, 'population': 2026, 'unfair': 2027, 'surviving': 2028, 'comfotable': 2029, 'profitable': 2030, 'local': 2031, 'mach': 2032, 'electric': 2033, 'eligible': 2034, 'coach': 2035, 'probbably': 2036, 'dose': 2037, 'present': 2038, 'self': 2039, 'selective': 2040, 'familiarize': 2041, 'gift': 2042, 'chanse': 2043, 'sexual': 2044, 'cihildhood': 2045, 'bird': 2046, 'yaer': 2047, 'perseverant': 2048, 'perserverant': 2049, 'got': 2050, 'occurring': 2051, 'dificullty': 2052, 'situstion': 2053, 'athletics': 2054, 'raising': 2055, 'cutting': 2056, 'cklassmates': 2057, 'among': 2058, 'acquired': 2059, 'chasing': 2060, 'online': 2061, 'flexibility': 2062, 'endanger': 2063, 'ambition': 2064, 'investing': 2065, 'egypt': 2066, 'of': 2067, 'ever': 2068, 'adhere': 2069, 'vey': 2070, 'vicinity': 2071, 'disputed': 2072, 'underneath': 2073, 'wegman': 2074, 'posibilty': 2075, 'progress': 2076, 'advance': 2077, 'planing': 2078, 'information': 2079, 'coastline': 2080, 'doesnot': 2081, 'radion': 2082, 'give': 2083, 'owning': 2084, 'brainstorming': 2085, 'adapt': 2086, 'seller': 2087, 'swung': 2088, 'hence': 2089, 'minimum': 2090, 'olden': 2091, 'fashionable': 2092, '35': 2093, 'dealer': 2094, 'fancy': 2095, 'texetbooks': 2096, 'misunderstood': 2097, 'become': 2098, 'case': 2099, 'surgery': 2100, 'skin': 2101, 'similar': 2102, 'slowly': 2103, 'fluent': 2104, 'neat': 2105, 'state': 2106, 'protein': 2107, 'effective': 2108, 'conclusion': 2109, 'program': 2110, 'heavily': 2111, 'cannot': 2112, 'scond': 2113, 'adjustment': 2114, 'round': 2115, 'response': 2116, 'tomo': 2117, 'passage': 2118, 'tended': 2119, 'member': 2120, 'doctor': 2121, 'disatvantages': 2122, 'easier': 2123, 'green': 2124, 'wonderful': 2125, 'motorbike': 2126, 'maintain': 2127, 'skilled': 2128, 'quickly': 2129, 'anxious': 2130, 'brang': 2131, 'preson': 2132, 'popularity': 2133, 'astroid': 2134, 'blind': 2135, 'decline': 2136, 'stage': 2137, 'britain': 2138, 'prefers': 2139, 'deplete': 2140, 'beat': 2141, 'salf': 2142, 'peopie': 2143, 'influenced': 2144, 'gifted': 2145, 'arcaeologist': 2146, 'located': 2147, 'ill': 2148, 'advantege': 2149, 'preciouse': 2150, 'enjoys': 2151, 'clerk': 2152, 'educational': 2153, 'main': 2154, 'literature': 2155, 'temporaty': 2156, 'programming': 2157, 'phone': 2158, 'gonna': 2159, 'india': 2160, 'cavity': 2161, 'learnng': 2162, 'imporeved': 2163, 'earnings': 2164, 'angry': 2165, 'until': 2166, 'bigger': 2167, 'huge': 2168, 'bisnes': 2169, 'mustsee': 2170, 'pot': 2171, 'international': 2172, 'bed': 2173, 'concerning': 2174, 'many': 2175, 'probles': 2176, 'eiffel': 2177, 'groundless': 2178, 'channel': 2179, 'potato': 2180, 'agrees': 2181, 'talent': 2182, 'mp': 2183, 'mistake': 2184, 'personal': 2185, 'afraid': 2186, 'joinde': 2187, 'factoriy': 2188, 'attribute': 2189, 'arouend': 2190, 'incorporate': 2191, 'possiable': 2192, 'verity': 2193, 'guidance': 2194, 'context': 2195, 'date': 2196, 'vavilla': 2197, 'magnitude': 2198, 'exopsure': 2199, 'sevirl': 2200, 'eating': 2201, 'at': 2202, 'guess': 2203, 'moment': 2204, 'red': 2205, 'meteriority': 2206, 'made': 2207, 'social': 2208, 'expand': 2209, 'namebrand': 2210, 'no': 2211, 'diverse': 2212, 'shine': 2213, 'statement': 2214, 'concetrate': 2215, 'unrelated': 2216, 'beak': 2217, 'persevering': 2218, 'air': 2219, 'idea': 2220, 'convenient': 2221, 'gante': 2222, 'avoid': 2223, 'communication': 2224, 'traveled': 2225, 'poorer': 2226, 'danger': 2227, 'writting': 2228, 'wil': 2229, 'searching': 2230, 'tallent': 2231, 'symbol': 2232, 'temporary': 2233, 'plan': 2234, 'tax': 2235, 'warning': 2236, 'belong': 2237, 'emphesize': 2238, 'using': 2239, 'according': 2240, 'distinctive': 2241, 'vitamin': 2242, 'bringing': 2243, 'demonstrates': 2244, 'hassled': 2245, 'somebody': 2246, 'auto': 2247, 'understand': 2248, 'honoring': 2249, 'quantity': 2250, 'tought': 2251, 'amitabh': 2252, 'add': 2253, 'underlying': 2254, 'fifteenyearold': 2255, 'devotion': 2256, 'trainer': 2257, 'devote': 2258, 'manufacturer': 2259, 'let': 2260, 'equalifications': 2261, 'increased': 2262, 'dream': 2263, 'az': 2264, 'prefer': 2265, 'subects': 2266, 'forum': 2267, 'vary': 2268, 'harder': 2269, 'proceed': 2270, 'journal': 2271, 'measure': 2272, 'wellorganized': 2273, 'solar': 2274, 'broad': 2275, 'polluting': 2276, 'could': 2277, 'great': 2278, 'basic': 2279, 'remembering': 2280, 'adjust': 2281, 'wellknown': 2282, 'dengres': 2283, 'idiea': 2284, 'derived': 2285, 'migrating': 2286, 'paris': 2287, 'base': 2288, 'infection': 2289, 'such': 2290, 'oppurtunity': 2291, 'seperate': 2292, 'nir': 2293, 'strengthened': 2294, 'beleive': 2295, 'label': 2296, 'develops': 2297, 'court': 2298, 'excited': 2299, 'bungeejumping': 2300, 'ceace': 2301, 'automobile': 2302, 'also': 2303, 'chi': 2304, 'voice': 2305, 'alongside': 2306, 'bit': 2307, 'liked': 2308, 'urged': 2309, 'inventor': 2310, 'drug': 2311, 'river': 2312, 'sent': 2313, 'necesserary': 2314, 'decision': 2315, 'painter': 2316, 'getting': 2317, 'method': 2318, 'issue': 2319, 'protected': 2320, 'subway': 2321, 'warker': 2322, 'baby': 2323, 'centralized': 2324, 'reliability': 2325, 'magnitides': 2326, 'specfic': 2327, 'everone': 2328, 'obsession': 2329, 'god': 2330, 'politik': 2331, 'espessial': 2332, 'evidence': 2333, 'view': 2334, 'obviously': 2335, 'calculated': 2336, 'promotes': 2337, 'star': 2338, 'selfconfdence': 2339, 'convey': 2340, 'new': 2341, 'hesitancy': 2342, 'irresponsible': 2343, 'music': 2344, 'ridiculous': 2345, 'temporal': 2346, 'player': 2347, 'realpolitik': 2348, 'diversity': 2349, 'malysia': 2350, 'provided': 2351, 'dissussing': 2352, 'detailed': 2353, 'logging': 2354, 'fucture': 2355, 'driver': 2356, 'usinformation': 2357, 'recommended': 2358, 'rabbit': 2359, 'billion': 2360, 'childish': 2361, 'hang': 2362, 'fulfills': 2363, 'taiwan': 2364, 'finish': 2365, 'seem': 2366, 'socialize': 2367, 'sometimes': 2368, 'latter': 2369, 'television': 2370, 'destroy': 2371, 'when': 2372, 'australia': 2373, 'something': 2374, 'enjoying': 2375, 'turkey': 2376, 'stuff': 2377, 'stated': 2378, 'uncommon': 2379, 'likr': 2380, 'full': 2381, 'follows': 2382, 'yokohama': 2383, 'even': 2384, 'knew': 2385, 'tree': 2386, 'advancement': 2387, 'from': 2388, 'requeres': 2389, 'vocabulary': 2390, 'drasticly': 2391, 'harm': 2392, 'funeral': 2393, 'feed': 2394, 'persevere': 2395, '56': 2396, 'contact': 2397, 'didnt': 2398, 'nation': 2399, 'barely': 2400, 'migration': 2401, 'hitting': 2402, 'hundred': 2403, 'reaults': 2404, 'doas': 2405, 'create': 2406, 'happen': 2407, 'what': 2408, 'performing': 2409, 'schedule': 2410, 'sportsman': 2411, 'reduces': 2412, 'brave': 2413, 'considered': 2414, 'luce': 2415, 'better': 2416, 'augmenting': 2417, 'father': 2418, 'depression': 2419, 'moreover': 2420, 'fly': 2421, 'answer': 2422, 'accordance': 2423, 'underpaid': 2424, 'build': 2425, 'speeding': 2426, 'politically': 2427, 'exsample': 2428, 'gree': 2429, 'cold': 2430, 'once': 2431, 'olde': 2432, 'thought': 2433, 'continue': 2434, 'atmosphere': 2435, 'suggests': 2436, 'sold': 2437, 'spaise': 2438, 'attachment': 2439, 'toad': 2440, 'acadmic': 2441, 'repair': 2442, 'always': 2443, 'hotel': 2444, 'thorough': 2445, 'passionate': 2446, 'offer': 2447, 'thhe': 2448, 'aging': 2449, 'creature': 2450, 'writer': 2451, 'communicate': 2452, 'price': 2453, 'cure': 2454, 'albeit': 2455, 'distent': 2456, 'gained': 2457, 'science': 2458, 'dengures': 2459, 'intensive': 2460, 'false': 2461, 'studing': 2462, 'knowledege': 2463, 'doctrine': 2464, 'save': 2465, 'reschedule': 2466, 'hopefully': 2467, 'beteer': 2468, 'assured': 2469, 'playing': 2470, 'despite': 2471, 'pursuing': 2472, 'shouldnt': 2473, 'acidic': 2474, 'thereto': 2475, 'sulfur': 2476, 'sea': 2477, 'introduced': 2478, 'iede': 2479, 'surgeon': 2480, 'initative': 2481, 'hisher': 2482, 'ready': 2483, 'bad': 2484, 'destroying': 2485, 'functionals': 2486, 'ultimately': 2487, 'bombarded': 2488, 'surroand': 2489, 'enough': 2490, 'road': 2491, 'vietnam': 2492, 'litterature': 2493, 'illegal': 2494, 'usefull': 2495, 'page': 2496, 'vanilla': 2497, 'count': 2498, 'port': 2499, 'visible': 2500, 'tarvel': 2501, 'includes': 2502, 'lose': 2503, 'community': 2504, 'task': 2505, 'wood': 2506, 'afforded': 2507, 'donnot': 2508, 'ture': 2509, 'rolling': 2510, 'attended': 2511, 'and': 2512, 'suited': 2513, 'stagnant': 2514, 'wife': 2515, 'spain': 2516, 'nutrient': 2517, 'hack': 2518, 'carbohydrate': 2519, 'front': 2520, 'entire': 2521, 'dance': 2522, 'developing': 2523, 'considers': 2524, 'mindset': 2525, 'bons': 2526, 'exciting': 2527, 'changing': 2528, 'connected': 2529, 'efficiently': 2530, '60': 2531, 'wich': 2532, 'riding': 2533, 'this': 2534, 'acqurie': 2535, 'driving': 2536, 'us': 2537, 'consequence': 2538, 'setting': 2539, 'understood': 2540, 'promised': 2541, 'collaborative': 2542, 'two': 2543, 'de': 2544, 'leaning': 2545, 'satr': 2546, 'elderly': 2547, 'earning': 2548, 'ingredient': 2549, 'correct': 2550, 'heshe': 2551, 'try': 2552, 'commensence': 2553, 'dreaming': 2554, 'forth': 2555, 'dialogue': 2556, 'including': 2557, 'senior': 2558, 'selling': 2559, 'decaying': 2560, 'youre': 2561, 'chosen': 2562, 'confirms': 2563, 'irresistible': 2564, 'outburst': 2565, 'cooperate': 2566, 'own': 2567, 'deedly': 2568, 'leap': 2569, 'passege': 2570, 'resulta': 2571, 'externally': 2572, 'temple': 2573, 'implement': 2574, 'half': 2575, 'worked': 2576, 'cigarrets': 2577, 'unaware': 2578, 'clip': 2579, 'top': 2580, 'stating': 2581, 'since': 2582, 'explosion': 2583, 'specialized': 2584, 'apprtunites': 2585, 'restrict': 2586, 'manufacture': 2587, 'propulsion': 2588, 'tariff': 2589, 'bureau': 2590, 'imper': 2591, 'acknowledgement': 2592, 'accepting': 2593, 'primarily': 2594, 'fukuoka': 2595, 'loosing': 2596, 'commodity': 2597, 'fair': 2598, 'utilize': 2599, 'condition': 2600, 'french': 2601, 'allows': 2602, 'pull': 2603, 'competent': 2604, 'only': 2605, 'valueable': 2606, 'catch': 2607, 'drop': 2608, 'forgot': 2609, 'd': 2610, 'remains': 2611, 'participate': 2612, 'help': 2613, 'act': 2614, 'asasazi': 2615, 'cheapest': 2616, 'alot': 2617, 'sparing': 2618, 'result': 2619, 'able': 2620, 'form': 2621, 'helpful': 2622, 'juju': 2623, 'showed': 2624, 'barrier': 2625, 'aquired': 2626, 'releasing': 2627, 'definitely': 2628, 'damaged': 2629, 'on': 2630, 'sucssesfu': 2631, 'western': 2632, 'map': 2633, 'einstien': 2634, 'pepole': 2635, 'college': 2636, 'throat': 2637, 'disguise': 2638, 'attendance': 2639, 'practice': 2640, 'gerden': 2641, 'colorful': 2642, 'bakery': 2643, 'peopel': 2644, 're': 2645, 'fewer': 2646, 'would': 2647, 'often': 2648, 'environmentalfriendly': 2649, 'mirage': 2650, 'transplant': 2651, 'third': 2652, 'taulk': 2653, 'drive': 2654, 'chose': 2655, 'start': 2656, 'youself': 2657, 'world': 2658, 'bullet': 2659, 'criticizing': 2660, 'whom': 2661, 'studied': 2662, 'anglo': 2663, 'faster': 2664, 'interview': 2665, 'collection': 2666, 'lived': 2667, 'transmit': 2668, 'idealism': 2669, 'park': 2670, 'prefar': 2671, 'leave': 2672, 'serve': 2673, 'posted': 2674, 'appeal': 2675, 'paid': 2676, 'factory': 2677, 'fuel': 2678, 'accustomed': 2679, 'priedo': 2680, 'argues': 2681, 'declare': 2682, 'ther': 2683, 'taire': 2684, 'thife': 2685, 'damage': 2686, 'woud': 2687, 'client': 2688, 'had': 2689, 'architect': 2690, 'diversifed': 2691, 'lifestile': 2692, 'style': 2693, 'million': 2694, 'morden': 2695, 'colourful': 2696, 'similarly': 2697, 'critism': 2698, 'memorable': 2699, 'noise': 2700, 'rare': 2701, 'oher': 2702, 'someone': 2703, 'drafting': 2704, 'twowheelers': 2705, 'receiving': 2706, 'environmental': 2707, 'vulcan': 2708, 'brings': 2709, 'convinced': 2710, 'speaks': 2711, 'experience': 2712, 'collecting': 2713, 'common': 2714, 'capable': 2715, 'space': 2716, 'receive': 2717, 'team': 2718, 'placeboinduced': 2719, 'terrestrial': 2720, 'health': 2721, 'dveloped': 2722, 'draw': 2723, 'anther': 2724, 'have': 2725, 'airplane': 2726, 'langage': 2727, 'scraping': 2728, 'thailand': 2729, 'area': 2730, 'eco': 2731, 'branded': 2732, 'harvested': 2733, 'fall': 2734, 'nature': 2735, 'force': 2736, 'jumping': 2737, 'transmits': 2738, 'famliy': 2739, 'honda': 2740, 'avoided': 2741, 'all': 2742, 'seems': 2743, 'lanparty': 2744, 'middle': 2745, 'solid': 2746, 'ng': 2747, 'speak': 2748, 'higher': 2749, 'emergent': 2750, 'ear': 2751, 'sweden': 2752, 'threefour': 2753, 'jeju': 2754, 'interesting': 2755, 'gerrthion': 2756, 'eventually': 2757, 'biochemical': 2758, 'thereby': 2759, 'accept': 2760, 'wasting': 2761, 'object': 2762, 'expanding': 2763, '3': 2764, 'wegmans': 2765, 'novel': 2766, 'contributes': 2767, 'universty': 2768, 'today': 2769, 'eastern': 2770, 'carbones': 2771, 'unknown': 2772, 'grammatical': 2773, 'specifically': 2774, 'dont': 2775, 'apple': 2776, 'worldwide': 2777, 'thir': 2778, 'reduced': 2779, 'italian': 2780, 'antibiotic': 2781, 'validated': 2782, 'curricular': 2783, 'detected': 2784, 'versa': 2785, 'degree': 2786, 'restricting': 2787, 'negative': 2788, 'work': 2789, 'soybean': 2790, 'resemble': 2791, 'smallers': 2792, 'sleeping': 2793, 'back': 2794, 'uncertified': 2795, 'traffic': 2796, 'my': 2797, 'personally': 2798, 'universe': 2799, 'gambler': 2800, 'kid': 2801, 'poor': 2802, 'fantastic': 2803, 'pollutes': 2804, 'idealistic': 2805, 'wasent': 2806, 'consequently': 2807, 'fashion': 2808, 'advancing': 2809, 'company': 2810, 'adding': 2811, 'unnatural': 2812, 'leaving': 2813, 'attend': 2814, 'misundrestood': 2815, 'chracterictcs': 2816, 'flouride': 2817, 'solving': 2818, 'alone': 2819, 'endure': 2820, 'solely': 2821, 'victim': 2822, 'ticket': 2823, 'southwest': 2824, 'couple': 2825, 'surely': 2826, 'behabiar': 2827, 'obtaining': 2828, 'privacy': 2829, 'filmmaking': 2830, 'pace': 2831, 'multiknowledgement': 2832, 'cultural': 2833, 'type': 2834, 'reader': 2835, 'trip': 2836, 'write': 2837, 'special': 2838, 'medias': 2839, 'goverment': 2840, 'regime': 2841, 'mode': 2842, 'decreased': 2843, 'conserve': 2844, 'becuse': 2845, 'ourselves': 2846, 'presented': 2847, 'explore': 2848, 'travel': 2849, 'considering': 2850, 'exstra': 2851, 'helped': 2852, 'format': 2853, 'do': 2854, 'any': 2855, 'project': 2856, 'power': 2857, 'entering': 2858, 'impress': 2859, 'status': 2860, 'recognized': 2861, 'delivered': 2862, 'exapmles': 2863, 'or': 2864, 'headphone': 2865, 'farming': 2866, 'economic': 2867, 'impressed': 2868, 'prefere': 2869, 'he': 2870, 'meaningless': 2871, 'kingdom': 2872, 'peolple': 2873, 'maind': 2874, 'upto': 2875, 'grew': 2876, 'propleme': 2877, 'ander': 2878, 'attained': 2879, 'brand': 2880, 'too': 2881, 'answered': 2882, 'bay': 2883, 'comsumers': 2884, 'proper': 2885, 'modifying': 2886, 'difficultly': 2887, 'rural': 2888, 'city': 2889, 'topproduct': 2890, 'manner': 2891, 'threaten': 2892, 'exposed': 2893, 'wish': 2894, 'defination': 2895, 'ourselvese': 2896, 'subject': 2897, 'gold': 2898, 'mystery': 2899, 'slim': 2900, 'countrey': 2901, 'scared': 2902, 'crowd': 2903, '4they': 2904, 'true': 2905, 'though': 2906, 'prevented': 2907, 'deep': 2908, 'researching': 2909, 'biological': 2910, 'not': 2911, 'apply': 2912, 'creation': 2913, 'exponentially': 2914, 'oin': 2915, 'migratintg': 2916, 'ecplani': 2917, 'immediate': 2918, 'paper': 2919, 'shrub': 2920, 'old': 2921, 'fod': 2922, 'biggest': 2923, 'defferent': 2924, 'dominate': 2925, 'dayoff': 2926, 'government': 2927, 'affected': 2928, 'faceing': 2929, 'unfamiliar': 2930, 'peples': 2931, 'guider': 2932, 'virus': 2933, 'surround': 2934, 'depended': 2935, 'enthousiasm': 2936, 'director': 2937, 'electronics': 2938, 'transpotation': 2939, 'breadth': 2940, 'lrenikg': 2941, 'draft': 2942, 'plane': 2943, 'explanation': 2944, 'family': 2945, 'inventing': 2946, 'turning': 2947, 'departing': 2948, 'appealing': 2949, 'shameful': 2950, 'poisoning': 2951, 'understad': 2952, 'relaxed': 2953, 'endangered': 2954, 'examination': 2955, 'board': 2956, 'list': 2957, 'know': 2958, 'conch': 2959, 'technical': 2960, 'lie': 2961, 'environmentally': 2962, 'iattended': 2963, 'comparing': 2964, 'climbing': 2965, 'knwoledge': 2966, 'attract': 2967, 'buoy': 2968, 'either': 2969, 'cherrrys': 2970, 'aptitude': 2971, 'paw': 2972, 'suffering': 2973, 'people': 2974, 'therefore': 2975, 'football': 2976, 'exertion': 2977, 'consumtions': 2978, 'think': 2979, 'grown': 2980, 'serious': 2981, 'formula': 2982, 'textbook': 2983, 'imotions': 2984, 'shrink': 2985, 'management': 2986, 'failure': 2987, 'period': 2988, 'various': 2989, 'cane': 2990, 'progressed': 2991, 'sofisticated': 2992, 'to': 2993, 'called': 2994, 'efficient': 2995, 'encurge': 2996, 'sort': 2997, 'continent': 2998, 'earned': 2999, 'formed': 3000, 'frequent': 3001, 'insistence': 3002, 'devastated': 3003, 'hoped': 3004, 'docter': 3005, 'began': 3006, 'firing': 3007, 'thank': 3008, 'focused': 3009, 'techology': 3010, 'being': 3011, 'passed': 3012, 'demonstrate': 3013, 'difference': 3014, 'left': 3015, 'yellowstone': 3016, 'italy': 3017, 'belive': 3018, 'expert': 3019, 'reaserch': 3020, 'repeated': 3021, 'intellages': 3022, 'ohso': 3023, 'test': 3024, 'stop': 3025, 'quiet': 3026, 'modern': 3027, 'shackled': 3028, 'currently': 3029, 'alwys': 3030, 'finally': 3031, 'zebra': 3032, 'seen': 3033, 'puchase': 3034, 'effection': 3035, 'poeple': 3036, 'grow': 3037, 'afford': 3038, 'explained': 3039, 'but': 3040, 'living': 3041, 'fear': 3042, 'attain': 3043, 'buying': 3044, 'university': 3045, 'confidence': 3046, 'bony': 3047, 'emphasizes': 3048, 'soldier': 3049, 'characteristic': 3050, 'these': 3051, 'usa': 3052, 'will': 3053, 'proposed': 3054, 'lower': 3055, 'allready': 3056, 'strict': 3057, 'away': 3058, 'misused': 3059, 'uaually': 3060, 'freely': 3061, 'healthy': 3062, 'strong': 3063, 'contract': 3064, 'sickened': 3065, 'asked': 3066, 'highly': 3067, 'invention': 3068, 'proven': 3069, 'afew': 3070, 'continuing': 3071, 'cured': 3072, 'tof': 3073, 'intelligent': 3074, 'creativity': 3075, 'subsidize': 3076, 'ignore': 3077, 'performer': 3078, 'poisoned': 3079, 'busy': 3080, 'claim': 3081, 'invented': 3082, 'patient': 3083, 'ruin': 3084, 'describe': 3085, 'occasion': 3086, 'malaysia': 3087, 'critical': 3088, 'book': 3089, 'disadvanteges': 3090, 'accounting': 3091, 'happily': 3092, 'urban': 3093, 'letter': 3094, 'matter': 3095, 'recent': 3096, 'war': 3097, 'organ': 3098, 'poultry': 3099, 'lottery': 3100, 'partients': 3101, 'atmospere': 3102, 'problematic': 3103, 'useing': 3104, 'digital': 3105, 'unwritten': 3106, 'forty': 3107, 'lke': 3108, 'experince': 3109, 'herself': 3110, 'supervising': 3111, 'tough': 3112, 'climber': 3113, 'el': 3114, 'costly': 3115, 'valuable': 3116, 'meet': 3117, 'accomplishment': 3118, 'attempt': 3119, 'explaining': 3120, 'disagreeing': 3121, 'importnat': 3122, 'japanese': 3123, 'compelled': 3124, 'fool': 3125, 'routine': 3126, 'cheap': 3127, 'producing': 3128, 'recomended': 3129, 'entice': 3130, 'spite': 3131, 'theorize': 3132, 'privilege': 3133, 'testable': 3134, 'antient': 3135, 'advantage': 3136, 'creating': 3137, 'wanna': 3138, 'wellbeing': 3139, 'taha': 3140, 'civic': 3141, 'losing': 3142, 'hidden': 3143, 'leg': 3144, 'breathe': 3145, 'prescribe': 3146, 'competitive': 3147, 'prize': 3148, 'other': 3149, 'house': 3150, 'upset': 3151, 'likewise': 3152, 'embedded': 3153, 'preparation': 3154, 'therfore': 3155, 'turth': 3156, 'hase': 3157, 'below': 3158, 'championship': 3159, 'vague': 3160, 'brainscanning': 3161, 'menzied': 3162, 'very': 3163, 'selfconfidence': 3164, 'surprise': 3165, 'patience': 3166, 'profession': 3167, 'believing': 3168, 'potential': 3169, 'came': 3170, 'juicy': 3171, 'bothered': 3172, 'carree': 3173, 'concordance': 3174, 'must': 3175, 'economy': 3176, 'mac': 3177, 'knowlegde': 3178, 'repeteation': 3179, 'spoken': 3180, 'endless': 3181, 'decreasment': 3182, 'european': 3183, 'becom': 3184, 'controlled': 3185, 'na': 3186, 'ago': 3187, 'investigation': 3188, 'shop': 3189, 'unavoidable': 3190, 'we': 3191, 'diversified': 3192, 'safing': 3193, 'anothere': 3194, 'centralization': 3195, 'fossil': 3196, 'cooling': 3197, 'wheeler': 3198, 'firming': 3199, 'cope': 3200, 'might': 3201, 'junk': 3202, 'maintained': 3203, 'studed': 3204, 'tv': 3205, 'pas': 3206, 'importantly': 3207, 'founded': 3208, 'incorporating': 3209, 'commute': 3210, 'farm': 3211, 'brougth': 3212, 'stimulated': 3213, 'tampered': 3214, 'alowing': 3215, 'ti': 3216, 'traveling': 3217, 'presentable': 3218, 'mercedes': 3219, 'seductiveness': 3220, 'reliased': 3221, 'studying': 3222, 'availability': 3223, 'rider': 3224, 'reflect': 3225, 'song': 3226, 'advise': 3227, 'computer': 3228, 'minimal': 3229, 'explains': 3230, 'mechanism': 3231, 'boring': 3232, 'man': 3233, 'sued': 3234, 'firebreak': 3235, 'crash': 3236, 'apparently': 3237, 'remained': 3238, 'concentrate': 3239, 'enneoyed': 3240, 'knowlege': 3241, 'engy': 3242, 'mere': 3243, 'mechanic': 3244, 'train': 3245, 'constructing': 3246, 'spoke': 3247, 'faced': 3248, 'sex': 3249, 'particular': 3250, 'succeed': 3251, 'instrument': 3252, 'news': 3253, 'deed': 3254, 'limiting': 3255, 'attand': 3256, 'ifor': 3257, 'donts': 3258, 'principal': 3259, 'styal': 3260, 'newfashioned': 3261, 'mostly': 3262, 'prepation': 3263, 'mechanis': 3264, 'history': 3265, 'bundle': 3266, 'definelty': 3267, 'depend': 3268, 'fried': 3269, 'fund': 3270, 'bangalore': 3271, 'behavior': 3272, 'krall': 3273, 'however': 3274, 'resident': 3275, 'wise': 3276, 'briefly': 3277, 'discover': 3278, 'sing': 3279, 'due': 3280, 'bacause': 3281, 'etc': 3282, 'personality': 3283, 'into': 3284, 'extent': 3285, 'advertised': 3286, 'princess': 3287, 'spot': 3288, 'layer': 3289, 'commdities': 3290, 'questioned': 3291, 'previous': 3292, 'criminal': 3293, 'ereas': 3294, 'extending': 3295, 'cthe': 3296, 'maintenance': 3297, 'stream': 3298, 'break': 3299, 'plaque': 3300, 'solution': 3301, 'island': 3302, 'effel': 3303, 'bottle': 3304, 'resourse': 3305, 'ease': 3306, 'curriculum': 3307, 'friendly': 3308, 'incorrect': 3309, 'dozen': 3310, 'lifecycle': 3311, 'accommodate': 3312, 'worse': 3313, 'insufficient': 3314, 'national': 3315, 'respective': 3316, 'traditional': 3317, 'manhaden': 3318, 'wark': 3319, 'innovative': 3320, 'described': 3321, 'subjective': 3322, 'gouverment': 3323, 'aware': 3324, 'variety': 3325, 'broadcasting': 3326, 'last': 3327, 'went': 3328, 'tend': 3329, 'bus': 3330, 'futhermore': 3331, 'least': 3332, 'unsuspecting': 3333, 'question': 3334, 'did': 3335, 'harberd': 3336, 'specious': 3337, 'sphinx': 3338, 'crutial': 3339, 'decided': 3340, 'yet': 3341, 'repetition': 3342, 'waythismakes': 3343, 'becuase': 3344, 'substance': 3345, 'candidate': 3346, 'habilities': 3347, 'slow': 3348, 'depart': 3349, 'respond': 3350, 'orthopedic': 3351, 'congested': 3352, 'copper': 3353, 'remeber': 3354, 'quanlities': 3355, 'internal': 3356, 'juice': 3357, 'convince': 3358, 'utilized': 3359, 'which': 3360, 'consume': 3361, 'polo': 3362, 'source': 3363, 'entertain': 3364, 'attention': 3365, 'institute': 3366, 'expected': 3367, 'imagine': 3368, 'little': 3369, 'access': 3370, 'nowadays': 3371, 'replacement': 3372, 'ankara': 3373, 'done': 3374, 'interresting': 3375, 'take': 3376, 'happens': 3377, 'subjec': 3378, 'update': 3379, 'celebrity': 3380, 'initiate': 3381, 'greedy': 3382, 'challenger': 3383, 'americanc': 3384, 'filled': 3385, 'ground': 3386, 'software': 3387, 'teh': 3388, 'ore': 3389, 'ambulance': 3390, 'pleasure': 3391, 'another': 3392, 'technology': 3393, 'indonesia': 3394, 'first': 3395, 'inside': 3396, 'bicycle': 3397, 'learnig': 3398, 'harvard': 3399, 'posse': 3400, 'sosiety': 3401, 'persian': 3402, 'feeding': 3403, 'dollar': 3404, 'sayhey': 3405, 'refutes': 3406, 'rain': 3407, 'respected': 3408, 'smiling': 3409, 'usage': 3410, 'winning': 3411, 'organized': 3412, 'outcome': 3413, 'mouth': 3414, 'given': 3415, 'capitalize': 3416, 'problemmatic': 3417, 'richer': 3418, 'ensure': 3419, 'accretion': 3420, 'instance': 3421, 'nonspecialists': 3422, 'involve': 3423, 'budget': 3424, 'advertisemnets': 3425, 'wonderfull': 3426, 'established': 3427, 'associate': 3428, 'hardly': 3429, 'i': 3430, 'newer': 3431, 'duildings': 3432, 'ecocertified': 3433, 'focus': 3434, 'succed': 3435, 'creat': 3436, 'minute': 3437, 'desired': 3438, 'pile': 3439, 'wearer': 3440, 'visualize': 3441, 'rather': 3442, 'king': 3443, 'trobull': 3444, 'teeth': 3445, 'boney': 3446, 'december': 3447, 'whe': 3448, 'virginia': 3449, 'number': 3450, 'imidiatly': 3451, 'perform': 3452, 'mr': 3453, 'mistaken': 3454, 'essy': 3455, 'feild': 3456, 'intended': 3457, 'compeny': 3458, 'crop': 3459, 'ipod': 3460, 'trafic': 3461, 'latinamerican': 3462, 'rizal': 3463, 'toward': 3464, 'closet': 3465, 'spray': 3466, 'target': 3467, 'individual': 3468, 'profit': 3469, 'exemple': 3470, 'across': 3471, 'were': 3472, 'simple': 3473, 'foreignlanguages': 3474, 'sientist': 3475, 'moutains': 3476, 'interduce': 3477, 'believed': 3478, 'noting': 3479, 'instructor': 3480, 'good': 3481, 'everyday': 3482, 'depending': 3483, 'acticle': 3484, 'hook': 3485, 'varying': 3486, 'survey': 3487, 'highway': 3488, 'academis': 3489, 'biology': 3490, 'aboue': 3491, 'model': 3492, 'tourist': 3493, 'antidepressant': 3494, 'thus': 3495, 'around': 3496, 'stopped': 3497, 'offense': 3498, 'shrunken': 3499, 'operating': 3500, 'cant': 3501, 'ecosystem': 3502, 'rejected': 3503, 'causing': 3504, 'somethnig': 3505, 'offered': 3506, 'bottom': 3507, 'acted': 3508, 'clearly': 3509, 'treat': 3510, 'depends': 3511, 'focuse': 3512, 'fail': 3513, 'throughout': 3514, 'open': 3515, 'handicapped': 3516, 'medicins': 3517, 'nonexperts': 3518, 'sathsh': 3519, 'usually': 3520, 'celebrate': 3521, 'stonger': 3522, 'door': 3523, 'tired': 3524, 'failed': 3525, 'enter': 3526, 'bycicle': 3527, 'flocking': 3528, 'maximum': 3529, 'desputed': 3530, 'happiness': 3531, 'cuisine': 3532, 'electricity': 3533, 'run': 3534, 'somewhere': 3535, 'einstein': 3536, 'predecessor': 3537, 'telephone': 3538, 'material': 3539, 'sensation': 3540, 'former': 3541, 'boy': 3542, 'contribute': 3543, 'knowledgable': 3544, 'generally': 3545, 'school': 3546, 'order': 3547, 'protecting': 3548, 'scientist': 3549, 'outweigh': 3550, 'newly': 3551, 'objective': 3552, 'entertaintmaint': 3553, 've': 3554, 'weatherrealted': 3555, 'bag': 3556, 'develop': 3557, 'factual': 3558, '10': 3559, 'environment': 3560, 'released': 3561, 'gelatinized': 3562, 'whole': 3563, 'fixed': 3564, 'errounuosly': 3565, 'function': 3566, 'hinder': 3567, 'enthusiastic': 3568, 'demand': 3569, 'promise': 3570, 'subdued': 3571, 'wouldnt': 3572, 'structure': 3573, 'realist': 3574, 'born': 3575, 'america': 3576, 'move': 3577, 'thinking': 3578, 'distribute': 3579, 'extract': 3580, 'entered': 3581, 'personn': 3582, 'therapist': 3583, 'wellpaid': 3584, 'disposal': 3585, 'agreed': 3586, 'skill': 3587, 'spoil': 3588, 'meter': 3589, 'differ': 3590, 'differnt': 3591, 'contury': 3592, 'severe': 3593, 'flop': 3594, 'uptodate': 3595, 'furthers': 3596, 'canal': 3597, 'workplace': 3598, 'sollution': 3599, 'ispossible': 3600, 'hot': 3601, 'providing': 3602, 'compass': 3603, 'resourcesconsumed': 3604, 'protect': 3605, 'ranking': 3606, 'previously': 3607, 'still': 3608, 'spent': 3609, 'nobody': 3610, 'consulting': 3611, 'opposing': 3612, 'value': 3613, 'enthusiasm': 3614, 'particle': 3615, 'screen': 3616, 'im': 3617, 'viewer': 3618, 'economics': 3619, 'difficulty': 3620, 'pale': 3621, 'monthe': 3622, 'say': 3623, 'fulfill': 3624, 'carrier': 3625, 'cinsidered': 3626, 'onlinebusiness': 3627, 'disappearing': 3628, 'wanted': 3629, 'vital': 3630, 'although': 3631, 'internet': 3632, 'solve': 3633, 'guarantee': 3634, 'moviments': 3635, 'actully': 3636, 'harsh': 3637, 'growth': 3638, 'depressed': 3639, 'fizzle': 3640, 'attractively': 3641, 'isolated': 3642, 'token': 3643, 'yerkish': 3644, 'occur': 3645, 'impart': 3646, 'nearby': 3647, 'sightseeing': 3648, 'enqui': 3649, 'assigment': 3650, 'further': 3651, 'certein': 3652, 'prompt': 3653, 'inter': 3654, 'upcoming': 3655, 'talk': 3656, 'career': 3657, 'delay': 3658, 'imitative': 3659, 'included': 3660, 'application': 3661, 'sense': 3662, 'doubt': 3663, '75': 3664, 'bussiness': 3665, 'deserves': 3666, 'offert': 3667, 'proved': 3668, 'recall': 3669, 'consuming': 3670, 'immigrant': 3671, 'probably': 3672, 'advatage': 3673, 'throughing': 3674, 'men': 3675, 'magetite': 3676, 'encounter': 3677, 'commercial': 3678, 'class': 3679, '30': 3680, 'evaluate': 3681, 'match': 3682, 'classmetes': 3683, 'following': 3684, 'reply': 3685, 'contrary': 3686, 'ten': 3687, 'enjoyable': 3688, 'professor': 3689, 'lecturer': 3690, 'decease': 3691, 'small': 3692, 'pal': 3693, 'parasitic': 3694, 'come': 3695, 'calm': 3696, 'point': 3697, 'beginning': 3698, 'oil': 3699, 'broadly': 3700, 'maybe': 3701, 'rolex': 3702, 'introduce': 3703, 'benefit': 3704, 'discovery': 3705, 'earth': 3706, 'indicates': 3707, 'worth': 3708, 'tested': 3709, 'twenty': 3710, 'undergoing': 3711, 'location': 3712, 'lsat': 3713, 'famous': 3714, 'repreated': 3715, 'advertisments': 3716, 'mussel': 3717, 'refering': 3718, 'bood': 3719, 'office': 3720, 'fourth': 3721, 'meaninglessness': 3722, 'visiting': 3723, 'deter': 3724, 'desport': 3725, 'thisbut': 3726, 'pupluation': 3727, 'dealt': 3728, 'ensured': 3729, 'him': 3730, 'succeded': 3731, 'joking': 3732, 'up': 3733, 'goal': 3734, 'germany': 3735, 'making': 3736, 'drill': 3737, 'rush': 3738, 'business': 3739, 'confortable': 3740, 'talked': 3741, 'neighbor': 3742, 'transport': 3743, 'emotion': 3744, 'entrance': 3745, 'calculation': 3746, 'mad': 3747, 'encyclopedia': 3748, 'important': 3749, 'nevertheless': 3750, 'totally': 3751, 'whcih': 3752, 'succeedded': 3753, 'beleives': 3754, 'everthing': 3755, 'positive': 3756, 'baly': 3757, 'argument': 3758, 'encorragies': 3759, 'enclopedias': 3760, 'satify': 3761, 'bought': 3762, 'adaptable': 3763, 'afther': 3764, 'ridicurous': 3765, 'ecocertify': 3766, 'repairing': 3767, 'likely': 3768, 'brother': 3769, 'machine': 3770, 'meaningful': 3771, 'placebo': 3772, 'is': 3773, 'compete': 3774, 'hte': 3775, 'friend': 3776, 'determined': 3777, 'badly': 3778, 'figure': 3779, 'risky': 3780, 'orthopaedic': 3781, 'justified': 3782, 'foreign': 3783, 'young': 3784, 'innovation': 3785, 'caught': 3786, 'scene': 3787, 'manage': 3788, 'visitor': 3789, 'consisted': 3790, 'fracture': 3791, 'provides': 3792, 'largely': 3793, 'loose': 3794, 'perfect': 3795, 'advertisiment': 3796, 'sick': 3797, 'natural': 3798, 'filmaking': 3799, 'spesific': 3800, 'public': 3801, 'failing': 3802, 'aristotle': 3803, 'doing': 3804, 'day': 3805, 'properly': 3806, 'supposed': 3807, 'younger': 3808, 'breaus': 3809, 'edison': 3810, 'ignorance': 3811, 'opportunity': 3812, 'tower': 3813, 'douts': 3814, 'along': 3815, 'raise': 3816, 'inadequate': 3817, 'out': 3818, 'sport': 3819, 'migrate': 3820, 'exposure': 3821, 'somthing': 3822, 'deliver': 3823, 'modren': 3824, 'ihad': 3825, 'entertainment': 3826, 'looking': 3827, 'theorise': 3828, 'marketplace': 3829, 'movie': 3830, 'course': 3831, 'employee': 3832, 'dependend': 3833, 'movement': 3834, 'asteroid': 3835, 'prove': 3836, 'radio': 3837, 'perspective': 3838, 'discussion': 3839, 'spectrum': 3840, 'urge': 3841, 'unreturned': 3842, 'owned': 3843, 'inflation': 3844, 'marketing': 3845, 'outdo': 3846, 'bother': 3847, 'propably': 3848, 'policy': 3849, 'carful': 3850, 'completely': 3851, 'unsafe': 3852, 'safely': 3853, 'accomodate': 3854, 'before': 3855, 'loner': 3856, 'favorite': 3857, 'ypu': 3858, 'action': 3859, 'reaonable': 3860, 'cigarette': 3861, 'cai': 3862, 'focusing': 3863, 'can': 3864, 'it': 3865, 'compared': 3866, 'satisfaction': 3867, 'undertaking': 3868, 'notion': 3869, 'traveller': 3870, 'nursing': 3871, 'manifacturers': 3872, 'presently': 3873, 'preview': 3874, 'reacts': 3875, '2th': 3876, 'hand': 3877, 'teacher': 3878, 'maner': 3879, 'prpperty': 3880, 'should': 3881, 'quite': 3882, 'specialist': 3883, 'returned': 3884, 'most': 3885, 'menu': 3886, 'clean': 3887, 'paragraph': 3888, 'conceder': 3889, 'relate': 3890, 'twice': 3891, 'circumstance': 3892, 'produing': 3893, 'paste': 3894, 'exited': 3895, 'sustain': 3896, 'educator': 3897, 'gotten': 3898, 'modal': 3899, 'apparent': 3900, 'secure': 3901, 'peculiar': 3902, 'begin': 3903, 'addition': 3904, 'passport': 3905, 'encouraging': 3906, 'axcedant': 3907, 'reach': 3908, 'thoes': 3909, 'carbon': 3910, 'altough': 3911, 'stress': 3912, 'lost': 3913, 'hebitats': 3914, 'nothing': 3915, 'memorize': 3916, 'looked': 3917, 'chef': 3918, 'light': 3919, 'intwerested': 3920, 'ecological': 3921, 'nearly': 3922, 'finall': 3923, 'trustworthy': 3924, 'ploto': 3925, 'hassle': 3926, 'explorer': 3927, 'trust': 3928, 'phrase': 3929, 'proficiently': 3930, 'fifteen': 3931, 'extraordinary': 3932, 'example': 3933, 'adequately': 3934, 'costumer': 3935, 'production': 3936, 'night': 3937, 'option': 3938, 'vehicle': 3939, 'sacrifice': 3940, 'domain': 3941, 'hear': 3942, 'engaged': 3943, 'opting': 3944, 'qeuestion': 3945, 'mountain': 3946, 'increasing': 3947, 'fro': 3948, 'advice': 3949, 'youngster': 3950, 'requirement': 3951, 'brillant': 3952, 'equal': 3953, 'teenegers': 3954, 'pretty': 3955, 'age': 3956, 'developed': 3957, 'use': 3958, 'buissnes': 3959, 'prblems': 3960, 'education': 3961, 'oarts': 3962, 'lifestyle': 3963, 'advertisement': 3964, 'aim': 3965, 'preventing': 3966, 'gratdutes': 3967, 'promoting': 3968, 'different': 3969, 'belgrano': 3970, 'immense': 3971, 'ordinary': 3972, 'previos': 3973, 'identifies': 3974, 'worsening': 3975, 'society': 3976, 'background': 3977, 'anyways': 3978, 'lame': 3979, 'paying': 3980, 'bismark': 3981, 'clearing': 3982, 'became': 3983, 'that': 3984, 'learner': 3985, 'throwing': 3986, 'smoking': 3987, 'celebrated': 3988, 'remedy': 3989, 'club': 3990, 'climate': 3991, 'berfer': 3992, 'producer': 3993, 'timer': 3994, 'spends': 3995, 'propelled': 3996, 'salt': 3997, 'demostrate': 3998, 'extremely': 3999, 'best': 4000, 'unrealistic': 4001, 'appreciate': 4002, 'earn': 4003, 'binangonan': 4004, 'died': 4005, 'convenience': 4006, 'employed': 4007, 'comfortably': 4008, 'breath': 4009, 'single': 4010, 'europian': 4011, 'teathers': 4012, 'strategymaking': 4013, 'ultimate': 4014, 'efficint': 4015, 'extracurricular': 4016, 'ordered': 4017, 'forexample': 4018, 'immidiatly': 4019, 'ofcourse': 4020, 'wisdom': 4021, 'metaphor': 4022, 'student': 4023, 'admire': 4024, 'carrying': 4025, 'cherry': 4026, 'spontaneously': 4027, 'fourwheelers': 4028, 'aswell': 4029, 'density': 4030, 'treatment': 4031, 'reckoned': 4032, 'contrasting': 4033, 'required': 4034, 'thet': 4035, 'service': 4036, 'stump': 4037, 'box': 4038, 'winner': 4039, 'table': 4040, 'recovered': 4041, 'seek': 4042, 'pollutant': 4043, 'pink': 4044, 'balance': 4045, '9': 4046, 'stressful': 4047, 'bungee': 4048, 'bar': 4049, 'factully': 4050, 'influential': 4051, 'strengthen': 4052, 'politician': 4053, 'monument': 4054, 'pampered': 4055, 'uesing': 4056, 'previewing': 4057, 'taking': 4058, 'else': 4059, 'exutic': 4060, 'thing': 4061, 'actor': 4062, 'acccept': 4063, 'joy': 4064, 'matured': 4065, 'three': 4066, 'attracted': 4067, 'reference': 4068, 'wherever': 4069, 'impotant': 4070, 'site': 4071, 'an': 4072, 'habitat': 4073, 'law': 4074, 'hey': 4075, 'theory': 4076, 'differance': 4077, 'improvement': 4078, 'implausibly': 4079, 'doenst': 4080, 'pick': 4081, 'consists': 4082, 'bacchan': 4083, 'combine': 4084, 'typically': 4085, 'realistic': 4086, 'promote': 4087, 'indicated': 4088, 'generates': 4089, 'anchor': 4090, 'pure': 4091, 'overly': 4092, 'ancestor': 4093, 'himself': 4094, 'athlete': 4095, '8am9': 4096, 'advertissment': 4097, 'available': 4098, 'volunteerism': 4099, 'christianity': 4100, 'surprize': 4101, 'existence': 4102, 'departements': 4103, 'ohter': 4104, 'returning': 4105, 'm': 4106, 'component': 4107, 'duty': 4108, 'legal': 4109, 'briliant': 4110, 'succesful': 4111, 'cease': 4112, 'prescriptive': 4113, 'brain': 4114, 'fire': 4115, 'unhappy': 4116, 'now': 4117, 'suggestion': 4118, 'your': 4119, 'insatiable': 4120, 'striving': 4121, 'agriculture': 4122, 'breaking': 4123, 'japan': 4124, 'devised': 4125, 'rome': 4126, 'asks': 4127, 'shrinking': 4128, 'nail': 4129, 'definication': 4130, 'reminds': 4131, 'ironically': 4132, 'crater': 4133, 'praising': 4134, 'lastly': 4135, 'thats': 4136, 'flowing': 4137, 'shud': 4138, 'catalyzing': 4139, 'becouse': 4140, 'rise': 4141, 'butt': 4142, 'shape': 4143, 'bebeficial': 4144, 'graduated': 4145, 'olympiad': 4146, 'economyc': 4147, 'consumes': 4148, 'enjoyed': 4149, 'consumer': 4150, 'sophisticated': 4151, 'exercise': 4152, 'employer': 4153, 'alecture': 4154, 'tlaked': 4155, 'conscious': 4156, 'seriouse': 4157, 'strongly': 4158, 'achievement': 4159, 'absolutely': 4160, 'avivinity': 4161, 'mongolian': 4162, '0': 4163, 'identification': 4164, 'oxygen': 4165, 'involved': 4166, 'prohibition': 4167, 'training': 4168, 'tends': 4169, 'website': 4170, 'canada': 4171, 'listen': 4172, 'interestion': 4173, 'existing': 4174, 'consumed': 4175, 'series': 4176, 'sun': 4177, 'inward': 4178, 'eat': 4179, 'observation': 4180, 'oral': 4181, 'seduction': 4182, 'dealed': 4183, 'complete': 4184, 'fell': 4185, 'whtch': 4186, 'rock': 4187, '50': 4188, 'comprised': 4189, 'undergrad': 4190, 'overall': 4191, 'implicit': 4192, 'graw': 4193, 'taxation': 4194, 'york': 4195, 'defenately': 4196, 'weather': 4197, 'stagnating': 4198, 'thlat': 4199, 'felings': 4200, 'rais': 4201, 'strangely': 4202, 'gender': 4203, 'infact': 4204, 'section': 4205, 'composed': 4206, 'knowa': 4207, 'posibillity': 4208, 'unfold': 4209, 'disagree': 4210, 'sign': 4211, 'posssbale': 4212, 'viewed': 4213, 'gave': 4214, 'package': 4215, 'jump': 4216, 'clearer': 4217, 'selfsatisfaction': 4218, 'modify': 4219, 'lot': 4220, 'becaus': 4221, 'alternitive': 4222, 'avoiding': 4223, 'possession': 4224, 'interacting': 4225, 'doomed': 4226, 'blanket': 4227, 'theyselves': 4228, 'nineteenyearold': 4229, 'responsibility': 4230, 'moving': 4231, 'gona': 4232, 'worker': 4233, 'writing': 4234, 'change': 4235, 'ecocertification': 4236, 'revolution': 4237, 'eight': 4238, 'expensive': 4239, 'saved': 4240, '5': 4241, 'directly': 4242, 'kilogram': 4243, 'watcher': 4244, 'validity': 4245, 'intellectual': 4246, 'sale': 4247, 'preffer': 4248, 'behaviour': 4249, 'essay': 4250, 'iii': 4251, 'carusage': 4252, 'daily': 4253, 'corporation': 4254, 'certainly': 4255, 'o': 4256, 'guard': 4257, 'overcome': 4258, 'position': 4259, 'proplem': 4260, 'assertion': 4261, 'developly': 4262, 'safer': 4263, 'job': 4264, 'complex': 4265, 'tram': 4266, 'current': 4267, 'hunter': 4268, 'coat': 4269, 'comunities': 4270, 'catalysing': 4271, 'knowlegable': 4272, 'lonely': 4273, 'taken': 4274, 'mature': 4275, 'compitition': 4276, 'contradicted': 4277, 'incorporated': 4278, 'engine': 4279, 'actally': 4280, 'enormous': 4281, 'finding': 4282, 'vecation': 4283, 'unfolded': 4284, 'postion': 4285, 'dominant': 4286, 'menhaden': 4287, 'archaeological': 4288, 'speech': 4289, 'keep': 4290, 'tnl': 4291, 'critica': 4292, 'happien': 4293, 'landscape': 4294, 'definetly': 4295, 'exotic': 4296, 'vaguely': 4297, 'livestock': 4298, 'rest': 4299, 'waterway': 4300, 'title': 4301, 'expense': 4302, 'underestimated': 4303, 'make': 4304, 'wrong': 4305, 'fulfilling': 4306, 'sixty': 4307, 'infall': 4308, 'filmed': 4309, 'ecologistics': 4310, 'majority': 4311}\n"
     ]
    }
   ],
   "source": [
    "print (dictionary)"
   ]
  }
 ],
 "metadata": {
  "kernelspec": {
   "display_name": "env",
   "language": "python",
   "name": "python3"
  },
  "language_info": {
   "codemirror_mode": {
    "name": "ipython",
    "version": 3
   },
   "file_extension": ".py",
   "mimetype": "text/x-python",
   "name": "python",
   "nbconvert_exporter": "python",
   "pygments_lexer": "ipython3",
   "version": "3.11.5"
  }
 },
 "nbformat": 4,
 "nbformat_minor": 2
}
