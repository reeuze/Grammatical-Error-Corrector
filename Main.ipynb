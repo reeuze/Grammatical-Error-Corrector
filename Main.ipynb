{
 "cells": [
  {
   "cell_type": "markdown",
   "metadata": {},
   "source": [
    "Package"
   ]
  },
  {
   "cell_type": "code",
   "execution_count": 38,
   "metadata": {},
   "outputs": [
    {
     "name": "stderr",
     "output_type": "stream",
     "text": [
      "[nltk_data] Downloading package punkt to\n",
      "[nltk_data]     C:\\Users\\aditt\\AppData\\Roaming\\nltk_data...\n",
      "[nltk_data]   Unzipping tokenizers\\punkt.zip.\n"
     ]
    },
    {
     "data": {
      "text/plain": [
       "True"
      ]
     },
     "execution_count": 38,
     "metadata": {},
     "output_type": "execute_result"
    }
   ],
   "source": [
    "import re\n",
    "import spacy\n",
    "import nltk\n",
    "from nltk.tokenize import word_tokenize\n",
    "from num2words import num2words\n",
    "from sklearn.feature_extraction.text import CountVectorizer\n",
    "from sklearn.naive_bayes import MultinomialNB\n",
    "from sklearn.pipeline import make_pipeline\n",
    "from textblob import TextBlob\n",
    "import language_tool_python\n",
    "\n",
    "nltk.download('punkt')"
   ]
  },
  {
   "cell_type": "markdown",
   "metadata": {},
   "source": [
    "Set up dataset"
   ]
  },
  {
   "cell_type": "code",
   "execution_count": 19,
   "metadata": {},
   "outputs": [],
   "source": [
    "nlp = spacy.load(\"en_core_web_sm\")\n",
    "tool = language_tool_python.LanguageTool('en-US')"
   ]
  },
  {
   "cell_type": "code",
   "execution_count": 20,
   "metadata": {},
   "outputs": [],
   "source": [
    "from datasets import load_dataset\n",
    "\n",
    "ds = load_dataset(\"jhu-clsp/jfleg\")"
   ]
  },
  {
   "cell_type": "code",
   "execution_count": 23,
   "metadata": {},
   "outputs": [
    {
     "name": "stdout",
     "output_type": "stream",
     "text": [
      "Dataset({\n",
      "    features: ['sentence', 'corrections'],\n",
      "    num_rows: 755\n",
      "})\n"
     ]
    }
   ],
   "source": [
    "validation_dataset = ds['validation']\n",
    "test_dataset = ds['test']\n",
    "\n",
    "validation_sentences = validation_dataset['sentence']\n",
    "validation_corrections = validation_dataset['corrections']\n",
    "\n",
    "test_sentences = test_dataset['sentence']\n",
    "test_corrections = test_dataset['corrections']\n",
    "\n",
    "# for v_sentence, v_correction in zip(validation_sentences, validation_corrections):\n",
    "#     print(f\"Sentence: {v_sentence}\\nCorrection: {v_correction}\\n\")\n",
    "\n",
    "print(validation_dataset)"
   ]
  },
  {
   "cell_type": "code",
   "execution_count": null,
   "metadata": {},
   "outputs": [],
   "source": [
    "train_data = [\n",
    "    (\"Is this a question?\", \"question\"),\n",
    "    (\"This is a statement.\", \"statement\"),\n",
    "    (\"Do this now!\", \"command\"),\n",
    "    (\"How are you?\", \"question\"),\n",
    "    (\"Open the door.\", \"command\")\n",
    "]"
   ]
  },
  {
   "cell_type": "code",
   "execution_count": 24,
   "metadata": {},
   "outputs": [],
   "source": [
    "def train_classifier(data):\n",
    "    texts, labels = zip(*data)\n",
    "    vectorizer = CountVectorizer()\n",
    "    classifier = MultinomialNB()\n",
    "    model = make_pipeline(vectorizer, classifier)\n",
    "    model.fit(texts, labels)\n",
    "    return model"
   ]
  },
  {
   "cell_type": "code",
   "execution_count": 25,
   "metadata": {},
   "outputs": [],
   "source": [
    "classifier_model = train_classifier(validation_dataset)"
   ]
  },
  {
   "cell_type": "markdown",
   "metadata": {},
   "source": [
    "Stage 1"
   ]
  },
  {
   "cell_type": "code",
   "execution_count": 26,
   "metadata": {},
   "outputs": [],
   "source": [
    "def tokenize(text):\n",
    "    return word_tokenize(text)"
   ]
  },
  {
   "cell_type": "code",
   "execution_count": 27,
   "metadata": {},
   "outputs": [],
   "source": [
    "def normalize(tokens):\n",
    "    normalized_tokens = []\n",
    "    for token in tokens:\n",
    "        token = token.lower()\n",
    "        token = re.sub(r'\\W+', '', token)\n",
    "        if token.isdigit():\n",
    "            token = num2words(token)\n",
    "        if token:\n",
    "            normalized_tokens.append(token)\n",
    "    return normalized_tokens"
   ]
  },
  {
   "cell_type": "code",
   "execution_count": 29,
   "metadata": {},
   "outputs": [],
   "source": [
    "def recognize_entities(text):\n",
    "    doc = nlp(text)\n",
    "    entities = [(ent.text, ent.label_) for ent in doc.ents]\n",
    "    return entities"
   ]
  },
  {
   "cell_type": "code",
   "execution_count": 30,
   "metadata": {},
   "outputs": [],
   "source": [
    "def replace_entities(text, entities):\n",
    "    for entity, label in entities:\n",
    "        if label in [\"PERSON\", \"GPE\", \"ORG\"]:\n",
    "            placeholder = f'[{label}]'\n",
    "            text = re.sub(re.escape(entity), placeholder, text)\n",
    "    return text"
   ]
  },
  {
   "cell_type": "markdown",
   "metadata": {},
   "source": [
    "Stage 2"
   ]
  },
  {
   "cell_type": "code",
   "execution_count": 31,
   "metadata": {},
   "outputs": [],
   "source": [
    "def classify_sentence(text):\n",
    "    return classifier_model.predict([text])[0]"
   ]
  },
  {
   "cell_type": "code",
   "execution_count": 32,
   "metadata": {},
   "outputs": [],
   "source": [
    "def rule_based_correction(text):\n",
    "    text_blob = TextBlob(text)\n",
    "    corrected_text = str(text_blob.correct())\n",
    "    return corrected_text"
   ]
  },
  {
   "cell_type": "code",
   "execution_count": 33,
   "metadata": {},
   "outputs": [],
   "source": [
    "def model_based_correction(text):\n",
    "    matches = tool.check(text)\n",
    "    corrected_text = language_tool_python.utils.correct(text, matches)\n",
    "    return corrected_text"
   ]
  },
  {
   "cell_type": "markdown",
   "metadata": {},
   "source": [
    "Stage 3"
   ]
  },
  {
   "cell_type": "code",
   "execution_count": 34,
   "metadata": {},
   "outputs": [],
   "source": [
    "def replace_placeholders(text, entities):\n",
    "    for entity, label in entities:\n",
    "        placeholder = f'[{label}]'\n",
    "        text = text.replace(placeholder, entity, 1)\n",
    "    return text"
   ]
  },
  {
   "cell_type": "code",
   "execution_count": 35,
   "metadata": {},
   "outputs": [],
   "source": [
    "def format_sentence(text):\n",
    "    sentences = re.split(r'(?<=[.!?]) +', text)\n",
    "    formatted_sentences = [sentence.capitalize() for sentence in sentences]\n",
    "    formatted_text = ' '.join(formatted_sentences)\n",
    "    return formatted_text"
   ]
  },
  {
   "cell_type": "code",
   "execution_count": 36,
   "metadata": {},
   "outputs": [],
   "source": [
    "def process_text(text):\n",
    "    # Pra-pemrosesan\n",
    "    tokens = tokenize(text)\n",
    "    normalized_tokens = normalize(tokens)\n",
    "    normalized_text = ' '.join(normalized_tokens)\n",
    "    entities = recognize_entities(text)\n",
    "    text_with_placeholders = replace_entities(normalized_text, entities)\n",
    "\n",
    "    # Koreksi Tata Bahasa\n",
    "    sentence_type = classify_sentence(text_with_placeholders)\n",
    "    rule_based_corrected_text = rule_based_correction(text_with_placeholders)\n",
    "    model_based_corrected_text = model_based_correction(rule_based_corrected_text)\n",
    "\n",
    "    # Pasca-pemrosesan\n",
    "    text_with_entities = replace_placeholders(model_based_corrected_text, entities)\n",
    "    formatted_text = format_sentence(text_with_entities)\n",
    "\n",
    "    return formatted_text"
   ]
  },
  {
   "cell_type": "markdown",
   "metadata": {},
   "source": [
    "Test"
   ]
  },
  {
   "cell_type": "code",
   "execution_count": 40,
   "metadata": {},
   "outputs": [
    {
     "name": "stdout",
     "output_type": "stream",
     "text": [
      "John doe goes at new york on july the two thousand and twenty-one\n"
     ]
    }
   ],
   "source": [
    "text = \"John Doe goes at New York on July 5th, 2021.\"\n",
    "processed_text = process_text(text)\n",
    "print(processed_text)"
   ]
  }
 ],
 "metadata": {
  "kernelspec": {
   "display_name": "Python 3",
   "language": "python",
   "name": "python3"
  },
  "language_info": {
   "codemirror_mode": {
    "name": "ipython",
    "version": 3
   },
   "file_extension": ".py",
   "mimetype": "text/x-python",
   "name": "python",
   "nbconvert_exporter": "python",
   "pygments_lexer": "ipython3",
   "version": "3.11.5"
  }
 },
 "nbformat": 4,
 "nbformat_minor": 2
}
