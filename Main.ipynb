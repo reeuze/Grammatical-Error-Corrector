{
 "cells": [
  {
   "cell_type": "markdown",
   "metadata": {},
   "source": [
    "Package"
   ]
  },
  {
   "cell_type": "code",
   "execution_count": 79,
   "metadata": {},
   "outputs": [
    {
     "name": "stderr",
     "output_type": "stream",
     "text": [
      "[nltk_data] Downloading package punkt to\n",
      "[nltk_data]     C:\\Users\\aditt\\AppData\\Roaming\\nltk_data...\n",
      "[nltk_data]   Package punkt is already up-to-date!\n"
     ]
    },
    {
     "data": {
      "text/plain": [
       "True"
      ]
     },
     "execution_count": 79,
     "metadata": {},
     "output_type": "execute_result"
    }
   ],
   "source": [
    "import re\n",
    "import spacy\n",
    "import nltk\n",
    "from nltk.tokenize import word_tokenize\n",
    "from num2words import num2words\n",
    "from sklearn.feature_extraction.text import CountVectorizer\n",
    "from sklearn.naive_bayes import MultinomialNB\n",
    "from sklearn.pipeline import make_pipeline\n",
    "from textblob import TextBlob\n",
    "import language_tool_python\n",
    "\n",
    "nltk.download('punkt')"
   ]
  },
  {
   "cell_type": "code",
   "execution_count": 103,
   "metadata": {},
   "outputs": [],
   "source": [
    "text = \"John Doe goes in New York on July 5th, 2021.\""
   ]
  },
  {
   "cell_type": "markdown",
   "metadata": {},
   "source": [
    "Set up dataset"
   ]
  },
  {
   "cell_type": "code",
   "execution_count": 78,
   "metadata": {},
   "outputs": [],
   "source": [
    "nlp = spacy.load(\"en_core_web_sm\")\n",
    "tool = language_tool_python.LanguageTool('en-US')"
   ]
  },
  {
   "cell_type": "code",
   "execution_count": 80,
   "metadata": {},
   "outputs": [],
   "source": [
    "from datasets import load_dataset\n",
    "\n",
    "ds = load_dataset(\"jhu-clsp/jfleg\")"
   ]
  },
  {
   "cell_type": "code",
   "execution_count": 81,
   "metadata": {},
   "outputs": [],
   "source": [
    "validation_dataset = ds['validation']\n",
    "test_dataset = ds['test']\n",
    "\n",
    "validation_sentences = validation_dataset['sentence']\n",
    "validation_corrections = validation_dataset['corrections']\n",
    "\n",
    "test_sentences = test_dataset['sentence']\n",
    "test_corrections = test_dataset['corrections']\n",
    "\n",
    "Train_data = []\n",
    "for corrections in validation_corrections:\n",
    "    for sentence in corrections:\n",
    "        Train_data.append(sentence)\n",
    "for corrections in test_corrections:\n",
    "    for sentence in corrections:\n",
    "        Train_data.append(sentence)"
   ]
  },
  {
   "cell_type": "code",
   "execution_count": 82,
   "metadata": {},
   "outputs": [],
   "source": [
    "def train_classifier(data):\n",
    "    labels = [\"statement\"] * len(data)\n",
    "    vectorizer = CountVectorizer()\n",
    "    classifier = MultinomialNB()\n",
    "    model = make_pipeline(vectorizer, classifier)\n",
    "    model.fit(data, labels)\n",
    "    return model"
   ]
  },
  {
   "cell_type": "code",
   "execution_count": 83,
   "metadata": {},
   "outputs": [],
   "source": [
    "classifier_model = train_classifier(Train_data)"
   ]
  },
  {
   "cell_type": "markdown",
   "metadata": {},
   "source": [
    "Stage 1"
   ]
  },
  {
   "cell_type": "code",
   "execution_count": 84,
   "metadata": {},
   "outputs": [],
   "source": [
    "def tokenize(text):\n",
    "    return word_tokenize(text)"
   ]
  },
  {
   "cell_type": "code",
   "execution_count": 108,
   "metadata": {},
   "outputs": [
    {
     "name": "stdout",
     "output_type": "stream",
     "text": [
      "['John', 'Doe', 'goes', 'in', 'New', 'York', 'on', 'July', '5th', ',', '2021', '.']\n"
     ]
    }
   ],
   "source": [
    "Tokens = tokenize(text)\n",
    "print(Tokens)"
   ]
  },
  {
   "cell_type": "code",
   "execution_count": 132,
   "metadata": {},
   "outputs": [],
   "source": [
    "def normalize_1(tokens):\n",
    "    normalized_tokens = []\n",
    "    for token in tokens:\n",
    "        token = token.lower()\n",
    "        token = re.sub(r'\\W+', '', token)  # Remove non-alphanumeric characters\n",
    "        if token.isdigit():\n",
    "            token = num2words(token)\n",
    "        if token:\n",
    "            normalized_tokens.append(token)\n",
    "    return normalized_tokens"
   ]
  },
  {
   "cell_type": "code",
   "execution_count": 133,
   "metadata": {},
   "outputs": [
    {
     "name": "stdout",
     "output_type": "stream",
     "text": [
      "john doe goes in new york on july 5th two thousand and twenty-one\n"
     ]
    }
   ],
   "source": [
    "normalized_tokens = ' '.join(normalize_1(Tokens))\n",
    "print(normalized_tokens)"
   ]
  },
  {
   "cell_type": "code",
   "execution_count": 120,
   "metadata": {},
   "outputs": [],
   "source": [
    "def normalize_2(text):\n",
    "    normalized_text = []\n",
    "    for word in text:\n",
    "        if re.match(r'^\\d+(st|nd|rd|th)$', word):\n",
    "            normalized_text.append(word)\n",
    "        else:\n",
    "            normalized_word = str(TextBlob(word).correct())\n",
    "            normalized_text.append(normalized_word)\n",
    "    return ' '.join(normalized_text)"
   ]
  },
  {
   "cell_type": "code",
   "execution_count": 121,
   "metadata": {},
   "outputs": [
    {
     "name": "stdout",
     "output_type": "stream",
     "text": [
      "John Toe goes in New Work on July 5th , 2021 .\n"
     ]
    }
   ],
   "source": [
    "normalized_tokens = normalize_2(Tokens)\n",
    "print(normalized_tokens)"
   ]
  },
  {
   "cell_type": "code",
   "execution_count": 128,
   "metadata": {},
   "outputs": [],
   "source": [
    "def recognize_entities(text):\n",
    "    doc = nlp(text)\n",
    "    entities = [(ent.text, ent.label_) for ent in doc.ents]\n",
    "    return entities"
   ]
  },
  {
   "cell_type": "code",
   "execution_count": 141,
   "metadata": {},
   "outputs": [
    {
     "name": "stdout",
     "output_type": "stream",
     "text": [
      "[('John Doe', 'PERSON'), ('New York', 'GPE'), ('July 5th, 2021', 'DATE')]\n"
     ]
    }
   ],
   "source": [
    "entities = recognize_entities(text)\n",
    "print(entities)"
   ]
  },
  {
   "cell_type": "code",
   "execution_count": 142,
   "metadata": {},
   "outputs": [],
   "source": [
    "def replace_entities(text, entities):\n",
    "    for entity, label in entities:\n",
    "        if label in [\"PERSON\", \"GPE\", \"ORG\", \"DATE\"]:\n",
    "            placeholder = f'[{label}]'\n",
    "            new_text = re.sub(re.escape(entity), placeholder, text)\n",
    "    return new_text"
   ]
  },
  {
   "cell_type": "code",
   "execution_count": 143,
   "metadata": {},
   "outputs": [
    {
     "name": "stdout",
     "output_type": "stream",
     "text": [
      "john doe goes in new york on july 5th two thousand and twenty-one\n"
     ]
    }
   ],
   "source": [
    "text_with_placeholders = replace_entities(normalized_tokens, entities)\n",
    "print(text_with_placeholders)"
   ]
  },
  {
   "cell_type": "markdown",
   "metadata": {},
   "source": [
    "Stage 2"
   ]
  },
  {
   "cell_type": "code",
   "execution_count": 89,
   "metadata": {},
   "outputs": [],
   "source": [
    "def classify_sentence(text):\n",
    "    return classifier_model.predict([text])[0]"
   ]
  },
  {
   "cell_type": "code",
   "execution_count": 90,
   "metadata": {},
   "outputs": [],
   "source": [
    "def rule_based_correction(text):\n",
    "    text_blob = TextBlob(text)\n",
    "    corrected_text = str(text_blob.correct())\n",
    "    return corrected_text"
   ]
  },
  {
   "cell_type": "code",
   "execution_count": 91,
   "metadata": {},
   "outputs": [],
   "source": [
    "def model_based_correction(text):\n",
    "    matches = tool.check(text)\n",
    "    corrected_text = language_tool_python.utils.correct(text, matches)\n",
    "    return corrected_text"
   ]
  },
  {
   "cell_type": "markdown",
   "metadata": {},
   "source": [
    "Stage 3"
   ]
  },
  {
   "cell_type": "code",
   "execution_count": 92,
   "metadata": {},
   "outputs": [],
   "source": [
    "def replace_placeholders(text, entities):\n",
    "    for entity, label in entities:\n",
    "        placeholder = f'[{label}]'\n",
    "        text = text.replace(placeholder, entity, 1)\n",
    "    return text"
   ]
  },
  {
   "cell_type": "code",
   "execution_count": 93,
   "metadata": {},
   "outputs": [],
   "source": [
    "def format_sentence(text):\n",
    "    # Capitalize the first letter of each sentence\n",
    "    sentences = re.split(r'(?<=[.!?]) +', text)\n",
    "    formatted_sentences = [sentence.capitalize() for sentence in sentences]\n",
    "    formatted_text = ' '.join(formatted_sentences)\n",
    "    return formatted_text"
   ]
  },
  {
   "cell_type": "code",
   "execution_count": 106,
   "metadata": {},
   "outputs": [],
   "source": [
    "def process_text(text):\n",
    "    # Pra-pemrosesan\n",
    "    tokens = tokenize(text)\n",
    "    normalized_tokens = normalize(tokens)\n",
    "    normalized_text = ' '.join(normalized_tokens)\n",
    "    entities = recognize_entities(text)\n",
    "    text_with_placeholders = replace_entities(normalized_text, entities)\n",
    "\n",
    "    # Koreksi Tata Bahasa\n",
    "    rule_based_corrected_text = rule_based_correction(text_with_placeholders)\n",
    "    model_based_corrected_text = model_based_correction(rule_based_corrected_text)\n",
    "\n",
    "    # Pasca-pemrosesan\n",
    "    text_with_entities = replace_placeholders(model_based_corrected_text, entities)\n",
    "    formatted_text = format_sentence(text_with_entities)\n",
    "\n",
    "    return formatted_text\n"
   ]
  },
  {
   "cell_type": "markdown",
   "metadata": {},
   "source": [
    "Test"
   ]
  },
  {
   "cell_type": "code",
   "execution_count": 107,
   "metadata": {},
   "outputs": [
    {
     "name": "stdout",
     "output_type": "stream",
     "text": [
      "J o h n t o e g o e s i n n e w w o r k o n j u l y 5 t h , 2 0 2 1 .\n"
     ]
    }
   ],
   "source": [
    "text = \"John Doe goes in New York on July 5th, 2021.\"\n",
    "processed_text = process_text(text)\n",
    "print(processed_text)"
   ]
  }
 ],
 "metadata": {
  "kernelspec": {
   "display_name": "Python 3",
   "language": "python",
   "name": "python3"
  },
  "language_info": {
   "codemirror_mode": {
    "name": "ipython",
    "version": 3
   },
   "file_extension": ".py",
   "mimetype": "text/x-python",
   "name": "python",
   "nbconvert_exporter": "python",
   "pygments_lexer": "ipython3",
   "version": "3.11.5"
  }
 },
 "nbformat": 4,
 "nbformat_minor": 2
}
